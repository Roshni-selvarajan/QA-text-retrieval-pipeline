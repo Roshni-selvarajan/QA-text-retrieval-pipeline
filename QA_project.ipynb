{
  "nbformat": 4,
  "nbformat_minor": 0,
  "metadata": {
    "colab": {
      "provenance": [],
      "gpuType": "T4"
    },
    "kernelspec": {
      "name": "python3",
      "display_name": "Python 3"
    },
    "language_info": {
      "name": "python"
    },
    "accelerator": "GPU"
  },
  "cells": [
    {
      "cell_type": "code",
      "execution_count": 23,
      "metadata": {
        "colab": {
          "base_uri": "https://localhost:8080/"
        },
        "id": "2xFvcAauH3Eh",
        "outputId": "20b0cc74-ce12-4eaa-fa3b-ee7d7d59bfb1"
      },
      "outputs": [
        {
          "output_type": "stream",
          "name": "stdout",
          "text": [
            "Requirement already satisfied: transformers in /usr/local/lib/python3.10/dist-packages (4.44.2)\n",
            "Requirement already satisfied: pandas in /usr/local/lib/python3.10/dist-packages (2.2.2)\n",
            "Requirement already satisfied: torch in /usr/local/lib/python3.10/dist-packages (2.4.1+cu121)\n",
            "Requirement already satisfied: sentence-transformers in /usr/local/lib/python3.10/dist-packages (3.1.1)\n",
            "Collecting openai\n",
            "  Downloading openai-1.51.0-py3-none-any.whl.metadata (24 kB)\n",
            "Requirement already satisfied: filelock in /usr/local/lib/python3.10/dist-packages (from transformers) (3.16.1)\n",
            "Requirement already satisfied: huggingface-hub<1.0,>=0.23.2 in /usr/local/lib/python3.10/dist-packages (from transformers) (0.24.7)\n",
            "Requirement already satisfied: numpy>=1.17 in /usr/local/lib/python3.10/dist-packages (from transformers) (1.26.4)\n",
            "Requirement already satisfied: packaging>=20.0 in /usr/local/lib/python3.10/dist-packages (from transformers) (24.1)\n",
            "Requirement already satisfied: pyyaml>=5.1 in /usr/local/lib/python3.10/dist-packages (from transformers) (6.0.2)\n",
            "Requirement already satisfied: regex!=2019.12.17 in /usr/local/lib/python3.10/dist-packages (from transformers) (2024.9.11)\n",
            "Requirement already satisfied: requests in /usr/local/lib/python3.10/dist-packages (from transformers) (2.32.3)\n",
            "Requirement already satisfied: safetensors>=0.4.1 in /usr/local/lib/python3.10/dist-packages (from transformers) (0.4.5)\n",
            "Requirement already satisfied: tokenizers<0.20,>=0.19 in /usr/local/lib/python3.10/dist-packages (from transformers) (0.19.1)\n",
            "Requirement already satisfied: tqdm>=4.27 in /usr/local/lib/python3.10/dist-packages (from transformers) (4.66.5)\n",
            "Requirement already satisfied: python-dateutil>=2.8.2 in /usr/local/lib/python3.10/dist-packages (from pandas) (2.8.2)\n",
            "Requirement already satisfied: pytz>=2020.1 in /usr/local/lib/python3.10/dist-packages (from pandas) (2024.2)\n",
            "Requirement already satisfied: tzdata>=2022.7 in /usr/local/lib/python3.10/dist-packages (from pandas) (2024.2)\n",
            "Requirement already satisfied: typing-extensions>=4.8.0 in /usr/local/lib/python3.10/dist-packages (from torch) (4.12.2)\n",
            "Requirement already satisfied: sympy in /usr/local/lib/python3.10/dist-packages (from torch) (1.13.3)\n",
            "Requirement already satisfied: networkx in /usr/local/lib/python3.10/dist-packages (from torch) (3.3)\n",
            "Requirement already satisfied: jinja2 in /usr/local/lib/python3.10/dist-packages (from torch) (3.1.4)\n",
            "Requirement already satisfied: fsspec in /usr/local/lib/python3.10/dist-packages (from torch) (2024.6.1)\n",
            "Requirement already satisfied: scikit-learn in /usr/local/lib/python3.10/dist-packages (from sentence-transformers) (1.5.2)\n",
            "Requirement already satisfied: scipy in /usr/local/lib/python3.10/dist-packages (from sentence-transformers) (1.13.1)\n",
            "Requirement already satisfied: Pillow in /usr/local/lib/python3.10/dist-packages (from sentence-transformers) (10.4.0)\n",
            "Requirement already satisfied: anyio<5,>=3.5.0 in /usr/local/lib/python3.10/dist-packages (from openai) (3.7.1)\n",
            "Requirement already satisfied: distro<2,>=1.7.0 in /usr/lib/python3/dist-packages (from openai) (1.7.0)\n",
            "Collecting httpx<1,>=0.23.0 (from openai)\n",
            "  Downloading httpx-0.27.2-py3-none-any.whl.metadata (7.1 kB)\n",
            "Collecting jiter<1,>=0.4.0 (from openai)\n",
            "  Downloading jiter-0.5.0-cp310-cp310-manylinux_2_17_x86_64.manylinux2014_x86_64.whl.metadata (3.6 kB)\n",
            "Requirement already satisfied: pydantic<3,>=1.9.0 in /usr/local/lib/python3.10/dist-packages (from openai) (2.9.2)\n",
            "Requirement already satisfied: sniffio in /usr/local/lib/python3.10/dist-packages (from openai) (1.3.1)\n",
            "Requirement already satisfied: idna>=2.8 in /usr/local/lib/python3.10/dist-packages (from anyio<5,>=3.5.0->openai) (3.10)\n",
            "Requirement already satisfied: exceptiongroup in /usr/local/lib/python3.10/dist-packages (from anyio<5,>=3.5.0->openai) (1.2.2)\n",
            "Requirement already satisfied: certifi in /usr/local/lib/python3.10/dist-packages (from httpx<1,>=0.23.0->openai) (2024.8.30)\n",
            "Collecting httpcore==1.* (from httpx<1,>=0.23.0->openai)\n",
            "  Downloading httpcore-1.0.6-py3-none-any.whl.metadata (21 kB)\n",
            "Collecting h11<0.15,>=0.13 (from httpcore==1.*->httpx<1,>=0.23.0->openai)\n",
            "  Downloading h11-0.14.0-py3-none-any.whl.metadata (8.2 kB)\n",
            "Requirement already satisfied: annotated-types>=0.6.0 in /usr/local/lib/python3.10/dist-packages (from pydantic<3,>=1.9.0->openai) (0.7.0)\n",
            "Requirement already satisfied: pydantic-core==2.23.4 in /usr/local/lib/python3.10/dist-packages (from pydantic<3,>=1.9.0->openai) (2.23.4)\n",
            "Requirement already satisfied: six>=1.5 in /usr/local/lib/python3.10/dist-packages (from python-dateutil>=2.8.2->pandas) (1.16.0)\n",
            "Requirement already satisfied: MarkupSafe>=2.0 in /usr/local/lib/python3.10/dist-packages (from jinja2->torch) (2.1.5)\n",
            "Requirement already satisfied: charset-normalizer<4,>=2 in /usr/local/lib/python3.10/dist-packages (from requests->transformers) (3.3.2)\n",
            "Requirement already satisfied: urllib3<3,>=1.21.1 in /usr/local/lib/python3.10/dist-packages (from requests->transformers) (2.2.3)\n",
            "Requirement already satisfied: joblib>=1.2.0 in /usr/local/lib/python3.10/dist-packages (from scikit-learn->sentence-transformers) (1.4.2)\n",
            "Requirement already satisfied: threadpoolctl>=3.1.0 in /usr/local/lib/python3.10/dist-packages (from scikit-learn->sentence-transformers) (3.5.0)\n",
            "Requirement already satisfied: mpmath<1.4,>=1.1.0 in /usr/local/lib/python3.10/dist-packages (from sympy->torch) (1.3.0)\n",
            "Downloading openai-1.51.0-py3-none-any.whl (383 kB)\n",
            "Downloading httpx-0.27.2-py3-none-any.whl (76 kB)\n",
            "Downloading httpcore-1.0.6-py3-none-any.whl (78 kB)\n",
            "Downloading jiter-0.5.0-cp310-cp310-manylinux_2_17_x86_64.manylinux2014_x86_64.whl (318 kB)\n",
            "Downloading h11-0.14.0-py3-none-any.whl (58 kB)\n",
            "Installing collected packages: jiter, h11, httpcore, httpx, openai\n",
            "Successfully installed h11-0.14.0 httpcore-1.0.6 httpx-0.27.2 jiter-0.5.0 openai-1.51.0\n"
          ]
        }
      ],
      "source": [
        "!pip install transformers pandas torch sentence-transformers openai"
      ]
    },
    {
      "cell_type": "code",
      "source": [
        "import pandas as pd\n",
        "df = pd.read_csv('/content/fiqa.csv')"
      ],
      "metadata": {
        "id": "RUtiuFW-I37B"
      },
      "execution_count": 25,
      "outputs": []
    },
    {
      "cell_type": "code",
      "source": [
        "df.head()"
      ],
      "metadata": {
        "colab": {
          "base_uri": "https://localhost:8080/",
          "height": 206
        },
        "id": "ceazeKhsI3-c",
        "outputId": "febd5688-f9bc-442c-89de-97c19927964b"
      },
      "execution_count": 26,
      "outputs": [
        {
          "output_type": "execute_result",
          "data": {
            "text/plain": [
              "   query_id  doc_id  relevance  \\\n",
              "0         0   18850          1   \n",
              "1         4  196463          1   \n",
              "2         5   69306          1   \n",
              "3         6  560251          1   \n",
              "4         6  188530          1   \n",
              "\n",
              "                                          query_text  \\\n",
              "0  What is considered a business expense on a bus...   \n",
              "1  Business Expense - Car Insurance Deductible Fo...   \n",
              "2                     Starting a new online business   \n",
              "3            “Business day” and “due date” for bills   \n",
              "4            “Business day” and “due date” for bills   \n",
              "\n",
              "                                       document_text  \n",
              "0  The IRS Guidance pertaining to the subject.  I...  \n",
              "1  As a general rule, you must choose between a m...  \n",
              "2  Most US states have rules that go something li...  \n",
              "3  I don't believe Saturday is a business day eit...  \n",
              "4  You definitely have an argument for getting th...  "
            ],
            "text/html": [
              "\n",
              "  <div id=\"df-a7f0bda6-9463-4961-a764-95fb7ca07be4\" class=\"colab-df-container\">\n",
              "    <div>\n",
              "<style scoped>\n",
              "    .dataframe tbody tr th:only-of-type {\n",
              "        vertical-align: middle;\n",
              "    }\n",
              "\n",
              "    .dataframe tbody tr th {\n",
              "        vertical-align: top;\n",
              "    }\n",
              "\n",
              "    .dataframe thead th {\n",
              "        text-align: right;\n",
              "    }\n",
              "</style>\n",
              "<table border=\"1\" class=\"dataframe\">\n",
              "  <thead>\n",
              "    <tr style=\"text-align: right;\">\n",
              "      <th></th>\n",
              "      <th>query_id</th>\n",
              "      <th>doc_id</th>\n",
              "      <th>relevance</th>\n",
              "      <th>query_text</th>\n",
              "      <th>document_text</th>\n",
              "    </tr>\n",
              "  </thead>\n",
              "  <tbody>\n",
              "    <tr>\n",
              "      <th>0</th>\n",
              "      <td>0</td>\n",
              "      <td>18850</td>\n",
              "      <td>1</td>\n",
              "      <td>What is considered a business expense on a bus...</td>\n",
              "      <td>The IRS Guidance pertaining to the subject.  I...</td>\n",
              "    </tr>\n",
              "    <tr>\n",
              "      <th>1</th>\n",
              "      <td>4</td>\n",
              "      <td>196463</td>\n",
              "      <td>1</td>\n",
              "      <td>Business Expense - Car Insurance Deductible Fo...</td>\n",
              "      <td>As a general rule, you must choose between a m...</td>\n",
              "    </tr>\n",
              "    <tr>\n",
              "      <th>2</th>\n",
              "      <td>5</td>\n",
              "      <td>69306</td>\n",
              "      <td>1</td>\n",
              "      <td>Starting a new online business</td>\n",
              "      <td>Most US states have rules that go something li...</td>\n",
              "    </tr>\n",
              "    <tr>\n",
              "      <th>3</th>\n",
              "      <td>6</td>\n",
              "      <td>560251</td>\n",
              "      <td>1</td>\n",
              "      <td>“Business day” and “due date” for bills</td>\n",
              "      <td>I don't believe Saturday is a business day eit...</td>\n",
              "    </tr>\n",
              "    <tr>\n",
              "      <th>4</th>\n",
              "      <td>6</td>\n",
              "      <td>188530</td>\n",
              "      <td>1</td>\n",
              "      <td>“Business day” and “due date” for bills</td>\n",
              "      <td>You definitely have an argument for getting th...</td>\n",
              "    </tr>\n",
              "  </tbody>\n",
              "</table>\n",
              "</div>\n",
              "    <div class=\"colab-df-buttons\">\n",
              "\n",
              "  <div class=\"colab-df-container\">\n",
              "    <button class=\"colab-df-convert\" onclick=\"convertToInteractive('df-a7f0bda6-9463-4961-a764-95fb7ca07be4')\"\n",
              "            title=\"Convert this dataframe to an interactive table.\"\n",
              "            style=\"display:none;\">\n",
              "\n",
              "  <svg xmlns=\"http://www.w3.org/2000/svg\" height=\"24px\" viewBox=\"0 -960 960 960\">\n",
              "    <path d=\"M120-120v-720h720v720H120Zm60-500h600v-160H180v160Zm220 220h160v-160H400v160Zm0 220h160v-160H400v160ZM180-400h160v-160H180v160Zm440 0h160v-160H620v160ZM180-180h160v-160H180v160Zm440 0h160v-160H620v160Z\"/>\n",
              "  </svg>\n",
              "    </button>\n",
              "\n",
              "  <style>\n",
              "    .colab-df-container {\n",
              "      display:flex;\n",
              "      gap: 12px;\n",
              "    }\n",
              "\n",
              "    .colab-df-convert {\n",
              "      background-color: #E8F0FE;\n",
              "      border: none;\n",
              "      border-radius: 50%;\n",
              "      cursor: pointer;\n",
              "      display: none;\n",
              "      fill: #1967D2;\n",
              "      height: 32px;\n",
              "      padding: 0 0 0 0;\n",
              "      width: 32px;\n",
              "    }\n",
              "\n",
              "    .colab-df-convert:hover {\n",
              "      background-color: #E2EBFA;\n",
              "      box-shadow: 0px 1px 2px rgba(60, 64, 67, 0.3), 0px 1px 3px 1px rgba(60, 64, 67, 0.15);\n",
              "      fill: #174EA6;\n",
              "    }\n",
              "\n",
              "    .colab-df-buttons div {\n",
              "      margin-bottom: 4px;\n",
              "    }\n",
              "\n",
              "    [theme=dark] .colab-df-convert {\n",
              "      background-color: #3B4455;\n",
              "      fill: #D2E3FC;\n",
              "    }\n",
              "\n",
              "    [theme=dark] .colab-df-convert:hover {\n",
              "      background-color: #434B5C;\n",
              "      box-shadow: 0px 1px 3px 1px rgba(0, 0, 0, 0.15);\n",
              "      filter: drop-shadow(0px 1px 2px rgba(0, 0, 0, 0.3));\n",
              "      fill: #FFFFFF;\n",
              "    }\n",
              "  </style>\n",
              "\n",
              "    <script>\n",
              "      const buttonEl =\n",
              "        document.querySelector('#df-a7f0bda6-9463-4961-a764-95fb7ca07be4 button.colab-df-convert');\n",
              "      buttonEl.style.display =\n",
              "        google.colab.kernel.accessAllowed ? 'block' : 'none';\n",
              "\n",
              "      async function convertToInteractive(key) {\n",
              "        const element = document.querySelector('#df-a7f0bda6-9463-4961-a764-95fb7ca07be4');\n",
              "        const dataTable =\n",
              "          await google.colab.kernel.invokeFunction('convertToInteractive',\n",
              "                                                    [key], {});\n",
              "        if (!dataTable) return;\n",
              "\n",
              "        const docLinkHtml = 'Like what you see? Visit the ' +\n",
              "          '<a target=\"_blank\" href=https://colab.research.google.com/notebooks/data_table.ipynb>data table notebook</a>'\n",
              "          + ' to learn more about interactive tables.';\n",
              "        element.innerHTML = '';\n",
              "        dataTable['output_type'] = 'display_data';\n",
              "        await google.colab.output.renderOutput(dataTable, element);\n",
              "        const docLink = document.createElement('div');\n",
              "        docLink.innerHTML = docLinkHtml;\n",
              "        element.appendChild(docLink);\n",
              "      }\n",
              "    </script>\n",
              "  </div>\n",
              "\n",
              "\n",
              "<div id=\"df-a51320ad-c654-405d-a8ff-9c86e7499599\">\n",
              "  <button class=\"colab-df-quickchart\" onclick=\"quickchart('df-a51320ad-c654-405d-a8ff-9c86e7499599')\"\n",
              "            title=\"Suggest charts\"\n",
              "            style=\"display:none;\">\n",
              "\n",
              "<svg xmlns=\"http://www.w3.org/2000/svg\" height=\"24px\"viewBox=\"0 0 24 24\"\n",
              "     width=\"24px\">\n",
              "    <g>\n",
              "        <path d=\"M19 3H5c-1.1 0-2 .9-2 2v14c0 1.1.9 2 2 2h14c1.1 0 2-.9 2-2V5c0-1.1-.9-2-2-2zM9 17H7v-7h2v7zm4 0h-2V7h2v10zm4 0h-2v-4h2v4z\"/>\n",
              "    </g>\n",
              "</svg>\n",
              "  </button>\n",
              "\n",
              "<style>\n",
              "  .colab-df-quickchart {\n",
              "      --bg-color: #E8F0FE;\n",
              "      --fill-color: #1967D2;\n",
              "      --hover-bg-color: #E2EBFA;\n",
              "      --hover-fill-color: #174EA6;\n",
              "      --disabled-fill-color: #AAA;\n",
              "      --disabled-bg-color: #DDD;\n",
              "  }\n",
              "\n",
              "  [theme=dark] .colab-df-quickchart {\n",
              "      --bg-color: #3B4455;\n",
              "      --fill-color: #D2E3FC;\n",
              "      --hover-bg-color: #434B5C;\n",
              "      --hover-fill-color: #FFFFFF;\n",
              "      --disabled-bg-color: #3B4455;\n",
              "      --disabled-fill-color: #666;\n",
              "  }\n",
              "\n",
              "  .colab-df-quickchart {\n",
              "    background-color: var(--bg-color);\n",
              "    border: none;\n",
              "    border-radius: 50%;\n",
              "    cursor: pointer;\n",
              "    display: none;\n",
              "    fill: var(--fill-color);\n",
              "    height: 32px;\n",
              "    padding: 0;\n",
              "    width: 32px;\n",
              "  }\n",
              "\n",
              "  .colab-df-quickchart:hover {\n",
              "    background-color: var(--hover-bg-color);\n",
              "    box-shadow: 0 1px 2px rgba(60, 64, 67, 0.3), 0 1px 3px 1px rgba(60, 64, 67, 0.15);\n",
              "    fill: var(--button-hover-fill-color);\n",
              "  }\n",
              "\n",
              "  .colab-df-quickchart-complete:disabled,\n",
              "  .colab-df-quickchart-complete:disabled:hover {\n",
              "    background-color: var(--disabled-bg-color);\n",
              "    fill: var(--disabled-fill-color);\n",
              "    box-shadow: none;\n",
              "  }\n",
              "\n",
              "  .colab-df-spinner {\n",
              "    border: 2px solid var(--fill-color);\n",
              "    border-color: transparent;\n",
              "    border-bottom-color: var(--fill-color);\n",
              "    animation:\n",
              "      spin 1s steps(1) infinite;\n",
              "  }\n",
              "\n",
              "  @keyframes spin {\n",
              "    0% {\n",
              "      border-color: transparent;\n",
              "      border-bottom-color: var(--fill-color);\n",
              "      border-left-color: var(--fill-color);\n",
              "    }\n",
              "    20% {\n",
              "      border-color: transparent;\n",
              "      border-left-color: var(--fill-color);\n",
              "      border-top-color: var(--fill-color);\n",
              "    }\n",
              "    30% {\n",
              "      border-color: transparent;\n",
              "      border-left-color: var(--fill-color);\n",
              "      border-top-color: var(--fill-color);\n",
              "      border-right-color: var(--fill-color);\n",
              "    }\n",
              "    40% {\n",
              "      border-color: transparent;\n",
              "      border-right-color: var(--fill-color);\n",
              "      border-top-color: var(--fill-color);\n",
              "    }\n",
              "    60% {\n",
              "      border-color: transparent;\n",
              "      border-right-color: var(--fill-color);\n",
              "    }\n",
              "    80% {\n",
              "      border-color: transparent;\n",
              "      border-right-color: var(--fill-color);\n",
              "      border-bottom-color: var(--fill-color);\n",
              "    }\n",
              "    90% {\n",
              "      border-color: transparent;\n",
              "      border-bottom-color: var(--fill-color);\n",
              "    }\n",
              "  }\n",
              "</style>\n",
              "\n",
              "  <script>\n",
              "    async function quickchart(key) {\n",
              "      const quickchartButtonEl =\n",
              "        document.querySelector('#' + key + ' button');\n",
              "      quickchartButtonEl.disabled = true;  // To prevent multiple clicks.\n",
              "      quickchartButtonEl.classList.add('colab-df-spinner');\n",
              "      try {\n",
              "        const charts = await google.colab.kernel.invokeFunction(\n",
              "            'suggestCharts', [key], {});\n",
              "      } catch (error) {\n",
              "        console.error('Error during call to suggestCharts:', error);\n",
              "      }\n",
              "      quickchartButtonEl.classList.remove('colab-df-spinner');\n",
              "      quickchartButtonEl.classList.add('colab-df-quickchart-complete');\n",
              "    }\n",
              "    (() => {\n",
              "      let quickchartButtonEl =\n",
              "        document.querySelector('#df-a51320ad-c654-405d-a8ff-9c86e7499599 button');\n",
              "      quickchartButtonEl.style.display =\n",
              "        google.colab.kernel.accessAllowed ? 'block' : 'none';\n",
              "    })();\n",
              "  </script>\n",
              "</div>\n",
              "\n",
              "    </div>\n",
              "  </div>\n"
            ],
            "application/vnd.google.colaboratory.intrinsic+json": {
              "type": "dataframe",
              "variable_name": "df",
              "summary": "{\n  \"name\": \"df\",\n  \"rows\": 14166,\n  \"fields\": [\n    {\n      \"column\": \"query_id\",\n      \"properties\": {\n        \"dtype\": \"number\",\n        \"std\": 2838,\n        \"min\": 0,\n        \"max\": 11104,\n        \"num_unique_values\": 5500,\n        \"samples\": [\n          8904,\n          2441,\n          10337\n        ],\n        \"semantic_type\": \"\",\n        \"description\": \"\"\n      }\n    },\n    {\n      \"column\": \"doc_id\",\n      \"properties\": {\n        \"dtype\": \"number\",\n        \"std\": 172989,\n        \"min\": 63,\n        \"max\": 599860,\n        \"num_unique_values\": 14166,\n        \"samples\": [\n          421371,\n          118960,\n          87082\n        ],\n        \"semantic_type\": \"\",\n        \"description\": \"\"\n      }\n    },\n    {\n      \"column\": \"relevance\",\n      \"properties\": {\n        \"dtype\": \"number\",\n        \"std\": 0,\n        \"min\": 1,\n        \"max\": 1,\n        \"num_unique_values\": 1,\n        \"samples\": [\n          1\n        ],\n        \"semantic_type\": \"\",\n        \"description\": \"\"\n      }\n    },\n    {\n      \"column\": \"query_text\",\n      \"properties\": {\n        \"dtype\": \"category\",\n        \"num_unique_values\": 5500,\n        \"samples\": [\n          \"How is options implied volatility for a stock determined?\"\n        ],\n        \"semantic_type\": \"\",\n        \"description\": \"\"\n      }\n    },\n    {\n      \"column\": \"document_text\",\n      \"properties\": {\n        \"dtype\": \"string\",\n        \"num_unique_values\": 14130,\n        \"samples\": [\n          \"Thats a very open question, Depends on the risk you are willing to take with the money, or the length of time you are willing sit on it, or if you have a specific goal like buying a house.  Some banks offer high(ish) rate savings accounts http://www.bankaccountsavings.co.uk/calculator with a switching bonus that could be a good start. (combining the nationwide flexdirect and regular saver) if you want something more long term - safe option is bonds, medium risk option is Index funds (kind of covers all 3 risks really), risky option is Stocks & shares. For these probably a S&S ISA for a tax efficient option. Also LISA or HtB ISA are worth considering if you want to buy a house in the future.\"\n        ],\n        \"semantic_type\": \"\",\n        \"description\": \"\"\n      }\n    }\n  ]\n}"
            }
          },
          "metadata": {},
          "execution_count": 26
        }
      ]
    },
    {
      "cell_type": "markdown",
      "source": [
        "# ***Embedding model (Small)***"
      ],
      "metadata": {
        "id": "2kAgHoIUwGEV"
      }
    },
    {
      "cell_type": "code",
      "source": [
        "from sentence_transformers import SentenceTransformer, util, CrossEncoder\n",
        "\n",
        "small_embedding_model = SentenceTransformer(\"all-MiniLM-L6-v2\")\n",
        "\n",
        "# Function to retrieve top-k passages with corpus as a list\n",
        "def retrieve_passages_small(embedding_model, query, corpus, top_k=10):\n",
        "    # Convert query and corpus into embeddings\n",
        "    query_embedding = embedding_model.encode(query, convert_to_tensor=True)\n",
        "    corpus_embeddings = embedding_model.encode(corpus, convert_to_tensor=True)  # Now corpus is a list of cleaned texts\n",
        "\n",
        "    # Compute similarity scores between query and corpus\n",
        "    hits = util.semantic_search(query_embedding, corpus_embeddings, top_k=top_k)\n",
        "    hits = hits[0]  # Top-k results\n",
        "\n",
        "    # Retrieve top-k passages\n",
        "    retrieved_passages = [(corpus[hit['corpus_id']], hit['score']) for hit in hits]\n",
        "    return retrieved_passages\n",
        "queries = df['query_text'].tolist()\n",
        "# Clean corpus by removing NaN and ensuring all entries are strings\n",
        "corpus = [str(doc) for doc in df['document_text'].dropna()]\n"
      ],
      "metadata": {
        "colab": {
          "base_uri": "https://localhost:8080/"
        },
        "id": "IQuYh_ZnqtKp",
        "outputId": "7cf96cdb-5abf-4bb9-f668-b19cec4b0a19"
      },
      "execution_count": 27,
      "outputs": [
        {
          "output_type": "stream",
          "name": "stderr",
          "text": [
            "/usr/local/lib/python3.10/dist-packages/transformers/tokenization_utils_base.py:1601: FutureWarning: `clean_up_tokenization_spaces` was not set. It will be set to `True` by default. This behavior will be depracted in transformers v4.45, and will be then set to `False` by default. For more details check this issue: https://github.com/huggingface/transformers/issues/31884\n",
            "  warnings.warn(\n"
          ]
        }
      ]
    },
    {
      "cell_type": "code",
      "source": [
        "# Function to truncate a text to the first 512 tokens\n",
        "def truncate_text(text, max_tokens=512):\n",
        "    tokens = text.split()  # Split text into tokens (words)\n",
        "    return ' '.join(tokens[:max_tokens])  # Join the first max_tokens tokens\n",
        "\n",
        "# Clean and truncate corpus\n",
        "corpus_clean = [truncate_text(str(doc)) for doc in df['document_text'].dropna()]"
      ],
      "metadata": {
        "id": "nquxCgB0qtNy"
      },
      "execution_count": 28,
      "outputs": []
    },
    {
      "cell_type": "code",
      "source": [
        "# Example usage for small model\n",
        "query = \"What is inflation?\"\n",
        "top_k = 10\n",
        "small_model_passages = retrieve_passages_small(small_embedding_model, query, corpus, top_k=top_k)\n",
        "\n",
        "print(\"Small Model Passages:\", small_model_passages)\n"
      ],
      "metadata": {
        "colab": {
          "base_uri": "https://localhost:8080/"
        },
        "id": "nxYKTe5VqtRH",
        "outputId": "f54924c6-265e-41d0-b0d0-55c9a8a6d214"
      },
      "execution_count": 29,
      "outputs": [
        {
          "output_type": "stream",
          "name": "stdout",
          "text": [
            "Small Model Passages: [(\"Inflation refers to the money supply. Think of all money being air in a balloon. Inflation is what happens when you blow more air in the balloon. Deflation is what happens when you let air escape. Inflation may cause prices to go up. However there are many scenarios possible in which this does not happen. For example, at the same time of inflation, there might be unemployment, making consumers unable to pay higher prices. Or some important resource (oil) may go down in price (due to political reasons, war has ended etc), compensating for the money having less value.  Similarly, peoples wages will tend to rise over time. They have to, otherwise everyone would be earning less, due to inflation. However again there are many scenarios in which wages do not keep up with inflation, or rise much faster. In fact over the past 40 years or so, US wages have not been able to keep up with inflation, making the average worker 'poorer' than 40 years ago. At its core, inflation refers to the value of the money itself. As all values of other products, services, assets etc are expressed in terms of money which itself also changes value, this can quickly become very complex. Most countries calculate inflation by averaging the price change of a basket of goods that are supposed to represent the average Joe's spending pattern. However these methods are often criticized as they would be 'hiding' inflation. The hidden inflation may come back later to bite us.\", 0.765166163444519), ('In simple terms, inflation is a result of too much money chasing too few goods, i.e. there is an imbalance between demand and supply. The demand exceeds the supply. With all other things being constant it leads to increase in price, i.e. inflation.', 0.7226199507713318), ('Inflation is a reflection on the expansion of the money supply, aka debt,  being created by a central bank. Fiat currencies usually inflate, because there is no limit to the amount of debt that can be created. The consequences of reckless money supply expansion can be seen throughout history, see Zimbabwe, though there have been many others...Brazil, Argentinia, etc...', 0.70943683385849), (\"The general discussion of inflation centers on money as a medium of exchange and a store of value. It is impossible to discuss inflation without considering time, since it is a comparison between the balance between money and goods at two points in time. The whole point of using money, rather than bartering goods, is to have a medium of exchange. Having money, you are interested in the buying power of the money in general more than the relative price of a specific commodity. If some supply distortion causes a shortage of tobacco, or gasoline, or rental properties, the price of each will go up. However, if the amount of circulating money is doubled, the price of everything will be bid up because there is more money chasing the same amount of wealth. The persons who get to introduce the additional circulating money will win at the expense of those who already hold cash. Most of the public measures that are used to describe the economy are highly suspect. For example, during the 90s, the federal government ceased using a constant market basket when computing CPI, allowing substitutions. With this, it was no longer possible to make consistent comparisons over time. The so-called Core CPI is even worse, as it excludes food and energy, which is fine provided you don't eat anything or use any energy. Therefore, when discussing CPI, it is important to understand what exactly is being measured and how. Most published statistics understate inflation.\", 0.7048472762107849), ('\"Let\\'s say there\\'s a product worth $10 in July and the inflation rate in August is 10%. Will it then cost $11 in August? Yes.  That\\'s basically what inflation means. However.  The \"\"monthly\"\" inflation numbers you typically see are generally a year over year inflation rate on that month.  Meaning August 2017 inflation is 10% that means inflation was 10% since last July 2016, not since July 2017. At the micro consumer level, inflation is very very very vague.  Some sectors of the economy will inflate faster than the general inflation rate, others will be slower or even deflate.  Sometimes a price increase comes with a value increase so it\\'s not really inflation.  And lastly, month over month inflation isn\\'t something you will feel.  Inflation is measured on the whole economy, but actual prices move in steps.  A pear today might cost $1, and a pear in five years might cost $1.10.  That\\'s 10% over 5 years or about 2% per year but the actual price change might have been as abrupt as yesterday a pear was $1 and now it\\'s $1.10.  All of the prices of pears over all of the country won\\'t be the same.   Inflation is a measure of everything in the economy roughly blended together to come up with a general value for the loss in purchasing power of a currency and is applicable over long periods.  A USD inflation rate of 3% does not mean the pear you spent $1 on today will necessarily cost $1.03 next year.\"', 0.7044993042945862), (\"If there's no inflation (or alternately there's deflation) people would tend to sit on money and wait for the prices to drop. This in pretty bad for pricier stuff like real estate/housing industry where a few percent can make a big difference.  For a growing economy a small inflation is good as people would go out and buy new stuff when they want it knowing they will not get a better deal if they wait a year or so.\", 0.6974548101425171), ('\"Inflation is an attempt to measure how much less money is worth. It is a weighted average of some bundle of goods and services price\\'s increase.  Money\\'s value is in what you can exchange it for, so higher prices means money is worth less. Monthly inflation is quoted either as \"\"a year, ending on that month\"\" or \"\"since the previous month\"\".  As the values differ by more than a factor of 10, you can usually tell which one is being referred to when they say \"\"inflation in August was 0.4%, a record high\"\" or \"\"inflation in August was 3.6%\"\".  You do need some context of the state of the economy, and how surprised the people talking about the numbers are.  Sometimes they refer to inflation since the last month, and then annualize it, which adds to the confusion. \"\"Consumer Inflation\"\"\\'s value depends on what the basket of goods is, and what you define as the same \"\"good\"\".  Is a computer this year the same as the last?  If the computer is 10x faster, do you ignore that, or factor it in? What basket do you use?  The typical monthly consumables purchased by a middle class citizen?  By a poor citizen?  By a rich citizen?  A mixture, and if so which mixture? More detailed inflation figures can focus on inflation facing each quntile of the population by household income, split durable goods from non-durable goods from services, split wage from non-wage inflation, ignore volatile things like food and energy, etc. Inflation doesn\\'t directly cause prices to raise; instead it is a measure of how much raise in prices happened.  It can easily be a self-fullfilling prophesy, as inflation expectations can lead to everyone automatically increasing the price they charge for everything (wages, goods, etc). Inflation can be viewed as a measurement of the \"\"cost of holding cash\"\".  At 10% inflation per year, holding a million dollars in cash for a year costs you 100,000$ in buying power.  At 1% inflation it costs 10,000$.  At 0.1% inflation, 1000$. Inflation of 10% in one year, followed by 10% the next, adds up to 1.1*1.1-1 = 21% inflation over the two years.  For low inflation numbers this acts a lot like adding; the further from 0% you get the more the lower-order terms make the result larger.  1% inflation for two years adds up to 2.01%, 10% over two years 21%, 100% over two years 300%, 1000% over two years 12000%, etc.  (and yes, some places suffer 1000% inflation)\"', 0.691994845867157), ('Inflation data is a general barometer for inflation that a typical consumer would experience.  Generally when calculating inflation for yourself you would only include items that you use and in percentages of your budget.   Personal inflation is much more useful when attempting to calculate safe withdrawal rates or projections into the future.', 0.6902654767036438), ('Assuming constant velocity, inflation is caused by the difference between the growth in the money supply and growth in real output. In other words, this means that the money supply growing faster than output is expanding causes inflation to arise.', 0.6862419247627258), (\"I don't think this can be explained in too simple a manner, but I'll try to keep it simple, organized, and concise. We need to start with a basic understanding of inflation. Inflation is the devaluing of currency (in this context) over time. It is used to explain that a $1 today is worth more than a $1 tomorrow. Inflation is explained by straight forward Supply = Demand economics. The value of currency is set at the point where supply (M1 in currency speak) = demand (actual spending). Increasing the supply of currency without increasing the demand will create a surplus of currency and in turn weaken the currency as there is more than is needed (inflation). Now that we understand what inflation is we can understand how it is created. The US Central Bank has set a target of around 2% for inflation annually. Meaning they aim to introduce 2% of M1 into the economy per year. This is where the answer gets complicated. M1 (currency) has a far reaching effect on secondary M2+ (credit) currency that can increase or decrease inflation just as much as M1 can... For example, if you were given $100 (M1) in new money from the Fed you would then deposit that $100 in the bank. The bank would then store 10% (the reserve ratio) in the Fed and lend out $90 (M2) to me on via a personal loan. I would then take that loan and buy a new car. The car dealer will deposit the $90 from my car loan into the bank who would then deposit 10% with The Fed and his bank would lend out $81... And the cycle will repeat... Any change to the amount of liquid currency (be it M1 or M2+) can cause inflation to increase or decrease. So if a nation decides to reduce its US Dollar Reserves that can inject new currency into the market (although the currency has already been printed it wasn't in the market). The currency markets aim to profit on currency imbalances and in reality momentary inflation/deflation between currencies.\", 0.68492591381073)]\n"
          ]
        }
      ]
    },
    {
      "cell_type": "code",
      "source": [
        "small_model_passages[0][:]"
      ],
      "metadata": {
        "colab": {
          "base_uri": "https://localhost:8080/"
        },
        "id": "NUZozCfoqtUZ",
        "outputId": "c1ce37e6-4329-49ef-d6e6-22170dfe90d2"
      },
      "execution_count": 30,
      "outputs": [
        {
          "output_type": "execute_result",
          "data": {
            "text/plain": [
              "(\"Inflation refers to the money supply. Think of all money being air in a balloon. Inflation is what happens when you blow more air in the balloon. Deflation is what happens when you let air escape. Inflation may cause prices to go up. However there are many scenarios possible in which this does not happen. For example, at the same time of inflation, there might be unemployment, making consumers unable to pay higher prices. Or some important resource (oil) may go down in price (due to political reasons, war has ended etc), compensating for the money having less value.  Similarly, peoples wages will tend to rise over time. They have to, otherwise everyone would be earning less, due to inflation. However again there are many scenarios in which wages do not keep up with inflation, or rise much faster. In fact over the past 40 years or so, US wages have not been able to keep up with inflation, making the average worker 'poorer' than 40 years ago. At its core, inflation refers to the value of the money itself. As all values of other products, services, assets etc are expressed in terms of money which itself also changes value, this can quickly become very complex. Most countries calculate inflation by averaging the price change of a basket of goods that are supposed to represent the average Joe's spending pattern. However these methods are often criticized as they would be 'hiding' inflation. The hidden inflation may come back later to bite us.\",\n",
              " 0.765166163444519)"
            ]
          },
          "metadata": {},
          "execution_count": 30
        }
      ]
    },
    {
      "cell_type": "markdown",
      "source": [
        "# ***Ranking***"
      ],
      "metadata": {
        "id": "lAMZWx3IwaXv"
      }
    },
    {
      "cell_type": "code",
      "source": [
        "# Load anking model\n",
        "ranking_model = CrossEncoder('cross-encoder/ms-marco-MiniLM-L-12-v2')\n",
        "\n",
        "# Function to rerank passages\n",
        "def rerank_passages(ranking_model, query, retrieved_passages):\n",
        "    rerank_scores = []\n",
        "    for passage_data in retrieved_passages:\n",
        "\n",
        "        passage = passage_data[0]  # Access the passage text\n",
        "        score = passage_data[1]            # Access the relevance score (optional if needed)\n",
        "\n",
        "        pair = [[query, passage]]\n",
        "        rerank_scores.append(ranking_model.predict(pair)[0])\n",
        "\n",
        "    # Sort passages based on rerank scores\n",
        "    reranked_passages = sorted(zip(retrieved_passages, rerank_scores), key=lambda x: x[1], reverse=True)\n",
        "    return reranked_passages\n"
      ],
      "metadata": {
        "id": "7ablyXqHqtZX"
      },
      "execution_count": 31,
      "outputs": []
    },
    {
      "cell_type": "code",
      "source": [
        "# Small model passage reranking\n",
        "reranked_small_model_passages = rerank_passages(ranking_model, query, small_model_passages)"
      ],
      "metadata": {
        "id": "2GlBmi2Vqtcz"
      },
      "execution_count": 32,
      "outputs": []
    },
    {
      "cell_type": "code",
      "source": [
        "reranked_small_model_passages[0]"
      ],
      "metadata": {
        "colab": {
          "base_uri": "https://localhost:8080/"
        },
        "id": "cYLZ8ju4rBKU",
        "outputId": "54cabb11-0ad1-4545-d259-5e32f8d94248"
      },
      "execution_count": 33,
      "outputs": [
        {
          "output_type": "execute_result",
          "data": {
            "text/plain": [
              "(('In simple terms, inflation is a result of too much money chasing too few goods, i.e. there is an imbalance between demand and supply. The demand exceeds the supply. With all other things being constant it leads to increase in price, i.e. inflation.',\n",
              "  0.7226199507713318),\n",
              " 8.179789)"
            ]
          },
          "metadata": {},
          "execution_count": 33
        }
      ]
    },
    {
      "cell_type": "code",
      "source": [
        "# df['query_text'] = df['query_text'].fillna('')\n",
        "df['document_text'] = df['document_text'].fillna('')\n",
        "\n",
        "# Define the maximum token length\n",
        "MAX_TOKEN_LENGTH = 512\n",
        "\n",
        "# Truncate the document text to the first 512 characters or words (based on your preference)\n",
        "corpus_clean1 = df['document_text'].apply(lambda x: x[:MAX_TOKEN_LENGTH])\n",
        "\n",
        "# (Optional) You can also truncate the query text if necessary, but it seems query lengths are already well within limits\n",
        "query_clean1 = df['query_text'].apply(lambda x: x[:MAX_TOKEN_LENGTH])\n"
      ],
      "metadata": {
        "id": "ps_5QXqzrBPx"
      },
      "execution_count": 34,
      "outputs": []
    },
    {
      "cell_type": "code",
      "source": [
        "len(corpus_clean1)"
      ],
      "metadata": {
        "colab": {
          "base_uri": "https://localhost:8080/"
        },
        "id": "1SPD9pzDrBSx",
        "outputId": "62910cd6-03e6-4843-b98e-69d535171d82"
      },
      "execution_count": 35,
      "outputs": [
        {
          "output_type": "execute_result",
          "data": {
            "text/plain": [
              "14166"
            ]
          },
          "metadata": {},
          "execution_count": 35
        }
      ]
    },
    {
      "cell_type": "markdown",
      "source": [
        "# ***Large embedding model***"
      ],
      "metadata": {
        "id": "hf8-BjYWwk7Q"
      }
    },
    {
      "cell_type": "code",
      "source": [
        "# Cell 1: Setup and Embed Queries and Corpus\n",
        "# Import necessary libraries\n",
        "from openai import OpenAI\n",
        "import numpy as np\n",
        "\n",
        "# Initialize the OpenAI client\n",
        "client = OpenAI(\n",
        "    api_key=\"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\",  # Replace with your API key\n",
        "    base_url=\"https://integrate.api.nvidia.com/v1\"\n",
        ")\n",
        "\n",
        "\n",
        "# Embed a list of texts using the large embedding model\n",
        "def embed_texts(texts, input_type):\n",
        "    response = client.embeddings.create(\n",
        "        input=texts,\n",
        "        model=\"nvidia/nv-embedqa-e5-v5\",\n",
        "        encoding_format=\"float\",\n",
        "        extra_body={\"input_type\": input_type, \"truncate\": \"NONE\"}\n",
        "    )\n",
        "    return response.data\n",
        "\n",
        "\n",
        "# Example usage: Truncate and embed the query and corpus\n",
        "query_embeddings = embed_texts(query, input_type=\"query\")\n",
        "#corpus_embeddings = embed_texts(corpus_clean1[:150], input_type=\"passage\")  # Embed only a subset for testing\n",
        "\n",
        "\n",
        "\n",
        "print(\"Query Embeddings:\", query_embeddings)\n",
        "# print(\"Corpus Embeddings:\", corpus_embeddings)\n"
      ],
      "metadata": {
        "colab": {
          "base_uri": "https://localhost:8080/"
        },
        "id": "38hVW-h7qtfz",
        "outputId": "e652a294-c462-445d-cfca-1a718efa8a29"
      },
      "execution_count": 36,
      "outputs": [
        {
          "output_type": "stream",
          "name": "stdout",
          "text": [
            "Query Embeddings: [Embedding(embedding=[0.0152130126953125, -0.013946533203125, 0.02410888671875, -0.0299835205078125, 0.05047607421875, 0.004848480224609375, 0.009124755859375, -0.006153106689453125, -0.033416748046875, -0.060211181640625, -0.006591796875, 0.007564544677734375, -0.01036834716796875, -0.031463623046875, -0.01251983642578125, 0.0254974365234375, 0.0214996337890625, -0.0084075927734375, -0.0004603862762451172, -0.0215606689453125, 0.051025390625, 0.01381683349609375, 0.00806427001953125, 0.00832366943359375, -0.012847900390625, 0.029022216796875, 0.056304931640625, 0.0312042236328125, 0.01204681396484375, 0.058349609375, -0.0152435302734375, -0.027252197265625, -0.0038299560546875, -0.048187255859375, 0.040252685546875, -0.0116424560546875, 0.006122589111328125, -0.0169525146484375, -0.0518798828125, 0.00461578369140625, -0.01385498046875, -0.0188751220703125, 0.0249786376953125, -0.032623291015625, -0.0160369873046875, -0.0175628662109375, 0.0215911865234375, -0.01435089111328125, 0.0039005279541015625, -0.03765869140625, 0.005130767822265625, 0.0157012939453125, -0.028717041015625, 0.04327392578125, -0.0239715576171875, 0.006031036376953125, 0.07745361328125, 0.02557373046875, -0.03228759765625, -0.037811279296875, -0.032806396484375, 0.0294036865234375, 0.013580322265625, -0.038604736328125, 0.0024776458740234375, 0.045440673828125, 0.00443267822265625, 0.039703369140625, 0.0074920654296875, 0.00452423095703125, 0.0175933837890625, 0.01428985595703125, 0.031585693359375, -0.037750244140625, 0.005901336669921875, -0.040191650390625, 0.011383056640625, 0.0227508544921875, 0.055389404296875, 0.07550048828125, 0.042724609375, 0.0180816650390625, -0.038116455078125, 0.048431396484375, 0.0180816650390625, -0.043548583984375, 0.07672119140625, -0.006755828857421875, 0.0041656494140625, -0.0097198486328125, -0.017578125, 0.018402099609375, 0.0193328857421875, -0.03369140625, -0.0369873046875, 0.052093505859375, -0.01849365234375, 0.017547607421875, -0.0279083251953125, -0.0555419921875, 0.0098419189453125, 0.00856781005859375, -0.0120849609375, 0.039764404296875, -0.02130126953125, 0.01209259033203125, -0.023773193359375, -0.04718017578125, 0.013031005859375, -0.0108184814453125, -0.026336669921875, -0.0203857421875, -0.046478271484375, 0.004245758056640625, 0.0107879638671875, 0.0115203857421875, -0.0159912109375, -0.0011835098266601562, -0.02099609375, -0.005504608154296875, 0.027130126953125, -0.007129669189453125, 0.048980712890625, 0.04656982421875, -0.056549072265625, 0.03265380859375, 0.0003647804260253906, -0.0187835693359375, -0.036590576171875, 0.051483154296875, -0.0107574462890625, -0.06878662109375, -0.00518798828125, 0.0016412734985351562, 0.01467132568359375, 0.0049591064453125, -0.08099365234375, -0.0413818359375, 0.041412353515625, 0.0111541748046875, -0.0225677490234375, -0.017547607421875, 0.009368896484375, 0.0019407272338867188, 0.0225677490234375, 0.047027587890625, 0.01392364501953125, 0.048675537109375, -0.010650634765625, 0.0208892822265625, -0.05010986328125, -0.043670654296875, -0.00201416015625, 0.00821685791015625, 0.052398681640625, -0.00945281982421875, -0.040771484375, 0.0406494140625, -0.021148681640625, 0.01318359375, 0.038543701171875, -0.0203704833984375, -0.00702667236328125, -0.00972747802734375, -0.058074951171875, 0.0198211669921875, 0.044830322265625, 0.0255584716796875, -0.0321044921875, 0.05609130859375, -0.00682830810546875, 0.024688720703125, 0.02911376953125, 0.059722900390625, 0.0251007080078125, 0.0162811279296875, -0.0097198486328125, -0.0455322265625, 0.021759033203125, 0.01515960693359375, -0.04632568359375, 0.0301513671875, 0.0303192138671875, -0.0367431640625, 0.0621337890625, 0.02899169921875, 0.01041412353515625, -0.01557159423828125, -0.0294189453125, -0.051116943359375, 0.015045166015625, -0.0645751953125, 0.03094482421875, -0.0718994140625, -0.004604339599609375, -0.01122283935546875, 0.00701141357421875, -0.00949859619140625, -0.018798828125, -0.023162841796875, -0.00936126708984375, 0.03924560546875, -0.022064208984375, 0.005611419677734375, 0.03546142578125, 0.052154541015625, -0.011993408203125, -0.03204345703125, -0.01509857177734375, 0.025634765625, -0.033599853515625, 0.00978851318359375, -0.00934600830078125, -0.0004987716674804688, -0.0145263671875, -0.03143310546875, 0.0390625, -0.02899169921875, -0.03753662109375, 0.05804443359375, 0.0068359375, 0.01441192626953125, -0.00763702392578125, -0.058563232421875, -0.0211181640625, 0.037384033203125, 0.0029430389404296875, 0.057708740234375, 0.007572174072265625, -0.003086090087890625, -0.035400390625, -0.0335693359375, 0.0306243896484375, 0.023651123046875, -0.00341796875, 0.0005068778991699219, 0.0193328857421875, 0.026123046875, 0.023773193359375, -0.0002720355987548828, -0.02313232421875, 0.0223388671875, 0.03717041015625, -0.0053253173828125, 0.039520263671875, 0.041107177734375, -0.00811004638671875, 0.0243682861328125, 0.049224853515625, 0.0010662078857421875, 0.0240325927734375, 0.059051513671875, 0.004718780517578125, 0.0175628662109375, -0.01207733154296875, -0.01515960693359375, -0.037109375, 0.005947113037109375, 0.0274505615234375, -0.045928955078125, -0.0144500732421875, 0.01145172119140625, -0.00988006591796875, 0.013671875, -0.0105438232421875, 0.0031642913818359375, -0.0092315673828125, -0.026641845703125, 0.0599365234375, -0.0087890625, 0.0145721435546875, 0.016082763671875, -0.05413818359375, -0.01399993896484375, 0.004573822021484375, 0.04339599609375, -0.016571044921875, -0.0115966796875, -0.0162506103515625, -0.05126953125, 0.006053924560546875, -0.03387451171875, -0.00887298583984375, -0.0025177001953125, 0.01331329345703125, 0.050384521484375, -0.023284912109375, -0.00994110107421875, 0.00021219253540039062, -0.0024738311767578125, 0.04815673828125, 0.0650634765625, 0.0109710693359375, 0.0070037841796875, 0.0289764404296875, -0.0215301513671875, 0.006526947021484375, -0.03240966796875, -0.01227569580078125, 0.02978515625, -0.063720703125, 0.0026721954345703125, 0.00614166259765625, 0.0149078369140625, -0.02838134765625, -0.05706787109375, -0.01012420654296875, 0.02813720703125, -0.01074981689453125, 0.0224761962890625, -0.00830841064453125, -0.0599365234375, 0.024627685546875, 0.028411865234375, 0.004383087158203125, 0.046722412109375, -0.00943756103515625, 0.00312042236328125, -0.009246826171875, -0.034912109375, 0.0070343017578125, -0.0022640228271484375, 0.020172119140625, 0.018829345703125, 0.03143310546875, 0.01605224609375, 0.0213775634765625, 0.0265045166015625, 0.01474761962890625, 0.0005087852478027344, 0.00148773193359375, 0.06097412109375, 0.0007038116455078125, 0.01528167724609375, 0.0236663818359375, -0.006626129150390625, -0.033355712890625, -0.0118865966796875, 0.007587432861328125, 0.0003440380096435547, 0.00943756103515625, -0.017547607421875, 0.047149658203125, 0.051788330078125, 0.0215606689453125, 0.0259552001953125, 0.0014638900756835938, 0.06292724609375, 0.038299560546875, -0.0022754669189453125, -0.05853271484375, 0.0416259765625, -0.01390838623046875, -0.0143890380859375, 0.01531982421875, -0.02801513671875, 0.026885986328125, -0.01010894775390625, 0.03179931640625, -0.0177001953125, 0.040985107421875, -0.049713134765625, -0.025115966796875, -0.0127716064453125, -0.043548583984375, -0.006786346435546875, -0.00872802734375, 0.038482666015625, 0.034942626953125, 0.04248046875, 0.0157012939453125, -0.0035762786865234375, -0.062347412109375, 0.0116424560546875, -0.051116943359375, -0.01103973388671875, -0.00615692138671875, 0.002964019775390625, -0.002422332763671875, 0.0714111328125, -0.000972747802734375, 0.0310821533203125, 0.060943603515625, -0.025054931640625, -0.056671142578125, 0.0030918121337890625, -0.00823211669921875, 0.0643310546875, -0.0213165283203125, -0.00722503662109375, -0.01313018798828125, -0.009521484375, -0.010467529296875, -0.0811767578125, 0.0038089752197265625, -0.0093231201171875, 0.033294677734375, -0.035247802734375, -0.0243682861328125, 0.009429931640625, -0.05950927734375, 0.08392333984375, -0.01239013671875, 0.04248046875, 0.08648681640625, 0.004802703857421875, -0.05108642578125, -0.01322174072265625, 0.016265869140625, -0.0027523040771484375, 0.05120849609375, 0.044830322265625, 0.01468658447265625, -0.0418701171875, 0.0179290771484375, 0.07373046875, 0.007717132568359375, -0.002735137939453125, -0.00701141357421875, -0.028961181640625, -0.061492919921875, -0.00024700164794921875, 0.0119476318359375, 0.00582122802734375, -0.00624847412109375, -0.0016756057739257812, 0.046966552734375, -0.001827239990234375, 0.0059814453125, -0.0193634033203125, 0.082275390625, -0.014068603515625, -0.058074951171875, -0.022186279296875, -0.0648193359375, -0.035736083984375, -0.004161834716796875, 0.02789306640625, 0.0014715194702148438, -0.013031005859375, 0.021270751953125, 0.0307464599609375, -0.05645751953125, 0.0007429122924804688, -0.0183868408203125, 0.046539306640625, -0.0023899078369140625, -0.01739501953125, -0.0333251953125, 0.017425537109375, -0.019287109375, 0.0264434814453125, 0.034637451171875, -0.043243408203125, -0.06695556640625, 0.02545166015625, -0.0035991668701171875, -0.0009469985961914062, -0.044677734375, -0.0110015869140625, -0.0172576904296875, -0.029815673828125, 0.02923583984375, -0.043060302734375, 0.007762908935546875, -0.022705078125, 0.008331298828125, 0.0038356781005859375, 0.04217529296875, -0.0055694580078125, 0.03863525390625, -0.0289306640625, -0.004718780517578125, -0.004360198974609375, 0.056427001953125, -0.016448974609375, 0.00341796875, -0.03704833984375, -0.0006842613220214844, 0.005771636962890625, -0.035064697265625, 0.00983428955078125, 0.0011339187622070312, 0.03302001953125, -0.0207061767578125, -0.029205322265625, 0.003200531005859375, 0.00948333740234375, -0.00420379638671875, -0.0087738037109375, -0.00799560546875, 0.0097503662109375, -0.009613037109375, 0.0198974609375, -0.0153656005859375, -0.048736572265625, 0.006298065185546875, 0.047576904296875, 0.01093292236328125, 0.045257568359375, 0.028961181640625, -0.015472412109375, -0.004863739013671875, -0.0234832763671875, -0.052001953125, -0.051513671875, 0.0276031494140625, -0.023162841796875, 0.00656890869140625, -0.0243988037109375, 0.060821533203125, 0.00859832763671875, -0.004703521728515625, -0.06256103515625, 0.014495849609375, -0.038909912109375, 0.0390625, 0.03387451171875, 9.012222290039062e-05, -0.0316162109375, -0.027374267578125, -0.0109710693359375, 0.005786895751953125, 0.00873565673828125, 0.0081024169921875, -0.02386474609375, -0.014739990234375, -0.0008697509765625, 0.0321044921875, 0.042999267578125, 0.0217742919921875, 0.0220184326171875, 0.0084228515625, 0.0421142578125, 0.02398681640625, 0.01483917236328125, -0.0209503173828125, -0.03350830078125, -0.0513916015625, 0.033233642578125, 0.0189361572265625, 0.0704345703125, -0.01236724853515625, 0.02008056640625, 0.01271820068359375, -0.0192718505859375, -0.06494140625, -0.005706787109375, -0.00443267822265625, 0.00024116039276123047, 0.0106658935546875, -0.0150299072265625, 0.003597259521484375, 0.029876708984375, -0.0200653076171875, 0.00213623046875, 0.048797607421875, 0.03692626953125, 0.02972412109375, -0.0019969940185546875, 0.01071929931640625, 0.040740966796875, 0.039276123046875, -0.022186279296875, 0.0296630859375, 0.0191192626953125, -0.016876220703125, -0.00901031494140625, 0.0311279296875, -0.021484375, -0.0218658447265625, -0.02740478515625, -0.050079345703125, -0.06561279296875, 0.0011692047119140625, 0.0009670257568359375, -0.0012044906616210938, 0.020599365234375, -0.018218994140625, -0.03375244140625, 0.0132293701171875, -0.0191497802734375, 0.00844573974609375, -0.006282806396484375, -0.052001953125, -0.0222015380859375, -0.0220794677734375, 0.0284576416015625, -0.0016460418701171875, -0.007701873779296875, 0.004161834716796875, 0.047821044921875, 0.030548095703125, -0.00202178955078125, -0.006439208984375, -0.00875091552734375, -0.0007929801940917969, -0.01268768310546875, 0.00353240966796875, -0.0099639892578125, -0.0089111328125, -0.00727081298828125, 0.0269622802734375, 0.0109405517578125, -0.027069091796875, 0.064453125, 0.01473236083984375, 0.00748443603515625, -0.0287628173828125, -0.0045623779296875, -0.01094818115234375, -0.0264892578125, -0.021636962890625, 0.033447265625, -0.01531219482421875, 0.028106689453125, -0.060455322265625, -0.01031494140625, 0.002410888671875, 0.048431396484375, 0.001232147216796875, 0.02899169921875, 0.001804351806640625, 0.0416259765625, -0.02484130859375, -0.05682373046875, -0.1148681640625, 0.0848388671875, 0.0261688232421875, -0.0186767578125, -0.05047607421875, -0.023193359375, 0.04742431640625, 0.040618896484375, -0.021820068359375, 0.0183258056640625, 0.0017271041870117188, 0.00917816162109375, -0.00162506103515625, -0.0268402099609375, 0.0093841552734375, -0.0283203125, 0.0362548828125, 0.01410675048828125, 0.02215576171875, 0.0164642333984375, 0.018951416015625, -0.0531005859375, -0.01342010498046875, -0.028076171875, 0.017974853515625, 0.00664520263671875, -0.011566162109375, -0.005710601806640625, -0.00013315677642822266, -0.005786895751953125, -0.029998779296875, -0.036651611328125, -0.03533935546875, -0.045806884765625, 0.02435302734375, -0.02606201171875, 0.04217529296875, -0.0288543701171875, 0.09130859375, 0.164794921875, 0.01242828369140625, -0.0174560546875, -0.042144775390625, -0.036956787109375, -0.020599365234375, 0.033203125, -0.0042572021484375, -0.020538330078125, 0.0068817138671875, 0.05615234375, 0.051116943359375, 0.0211181640625, -0.00714874267578125, -0.0005445480346679688, 0.0322265625, -0.033050537109375, 0.0079803466796875, 0.0303192138671875, -0.0228271484375, 0.04638671875, 0.05291748046875, -0.08624267578125, -0.02056884765625, -0.04461669921875, 0.00461578369140625, -0.0299835205078125, 0.02618408203125, 0.01299285888671875, -0.0005159378051757812, 0.002407073974609375, 0.037933349609375, -0.02056884765625, -0.0233917236328125, -0.04296875, 0.04058837890625, -0.00583648681640625, -0.01873779296875, 0.004360198974609375, 0.047027587890625, 0.010009765625, -0.0016040802001953125, -0.0404052734375, 0.0335693359375, -0.0126953125, 0.0167388916015625, -0.0014781951904296875, -0.023712158203125, 0.0028095245361328125, 0.007579803466796875, -0.0030975341796875, 0.01078033447265625, -0.010589599609375, -0.019989013671875, 0.0022430419921875, 0.0263214111328125, -0.012969970703125, -0.018646240234375, -0.0214996337890625, -0.052886962890625, -0.037933349609375, -0.0099945068359375, 0.0596923828125, -0.025177001953125, -0.006816864013671875, 0.0145263671875, 0.006183624267578125, 0.02142333984375, -0.024658203125, 0.02001953125, 0.040069580078125, 0.01218414306640625, 0.006988525390625, -0.03424072265625, -0.045013427734375, 0.02923583984375, -0.012115478515625, 0.005641937255859375, 0.050262451171875, -0.017120361328125, 0.012176513671875, 0.05804443359375, -0.0210113525390625, 0.0017271041870117188, -0.01549530029296875, -0.0144500732421875, 0.01245880126953125, 0.0258941650390625, 0.030487060546875, 0.028411865234375, -0.050628662109375, -0.0235748291015625, 0.04754638671875, -0.00994110107421875, 0.036285400390625, -0.01352691650390625, -0.032928466796875, 0.019439697265625, -0.031402587890625, 0.0268096923828125, 0.0084686279296875, 0.01157379150390625, -0.0006418228149414062, -0.025543212890625, -0.036346435546875, 0.0057525634765625, 0.0634765625, -0.0015468597412109375, -0.00024080276489257812, -0.0031719207763671875, 0.01416778564453125, -0.0149383544921875, -0.0182647705078125, 0.0022754669189453125, -0.00927734375, -0.0347900390625, 0.03167724609375, -0.036102294921875, 0.01690673828125, 0.009552001953125, 0.03082275390625, -0.0325927734375, -0.0230712890625, -0.044677734375, -0.0211181640625, 0.0286407470703125, -0.0028133392333984375, -0.00028777122497558594, 0.0034084320068359375, -0.0211334228515625, -0.0092010498046875, -0.0144500732421875, 0.01068115234375, 0.008575439453125, 0.032379150390625, 0.07025146484375, -0.019287109375, 0.030853271484375, 0.01389312744140625, -0.06524658203125, -0.01531982421875, -0.0262298583984375, -0.068115234375, -0.044281005859375, -0.039947509765625, 0.035919189453125, 0.0287933349609375, 0.0080718994140625, -0.035369873046875, -0.0032405853271484375, -0.039764404296875, -0.0027751922607421875, -0.0282135009765625, 0.01303863525390625, 0.0173492431640625, 0.0012540817260742188, -0.0218963623046875, 0.006725311279296875, -0.00984954833984375, 0.00534820556640625, 0.025177001953125, -0.041534423828125, -0.007564544677734375, 0.052337646484375, -0.00867462158203125, -0.00490570068359375, -0.030181884765625, 0.00028228759765625, -0.0004940032958984375, -0.018646240234375, 0.00821685791015625, 0.03851318359375, -0.01800537109375, -0.01348114013671875, -0.050384521484375, 0.021514892578125, -0.021514892578125, -0.0142059326171875, -0.00445556640625, 0.041778564453125, 0.03363037109375, 0.0089111328125, 0.0146484375, 0.08392333984375, -0.023834228515625, -0.023284912109375, 0.029083251953125, 0.004749298095703125, -0.03564453125, 0.06610107421875, 0.0163116455078125, -0.0015306472778320312, -0.04376220703125, 0.018463134765625, 0.0259246826171875, 0.0048828125, 0.08526611328125, 0.02728271484375, -0.021575927734375, -0.000274658203125, 0.057586669921875, -0.00753021240234375, 0.0198974609375, 0.0164642333984375, 0.03948974609375, -0.016265869140625, -0.01305389404296875, 0.0308837890625, -0.005615234375, 0.03936767578125, -0.056793212890625, 0.0141143798828125, -0.06658935546875, -0.0088348388671875, 0.0276031494140625, 0.05224609375, -0.034820556640625, 0.005031585693359375, -0.0279083251953125, -0.033477783203125, -0.00418853759765625, 0.0042572021484375, -0.033050537109375, -0.00637054443359375, 0.0302886962890625, 0.004451751708984375, 0.001842498779296875, -0.0020008087158203125, 0.01483154296875, -0.0106048583984375, 0.0281524658203125, 0.045684814453125, 0.0206451416015625, -0.0220794677734375, -0.012359619140625, 0.041107177734375, 0.01087188720703125, 0.0268402099609375, 0.00353240966796875, -0.0239105224609375, -0.0291748046875, -0.00934600830078125, 0.01470184326171875, -0.0050048828125, -0.0007486343383789062, -0.00308990478515625, -0.027374267578125, 0.0085601806640625, 0.022857666015625, -0.0117034912109375, -0.00040340423583984375, -0.026641845703125, 0.01050567626953125, -0.08331298828125, 0.042144775390625, -0.075927734375, -0.00689697265625, -0.0308074951171875, -0.055999755859375, -0.0298004150390625, -0.022857666015625, 0.0550537109375, -0.0163421630859375, -0.0251007080078125, 0.009063720703125, -0.0230865478515625, 0.0438232421875, -0.06292724609375, 0.017242431640625, 0.02398681640625, -0.0171661376953125, -0.0269317626953125, -0.006816864013671875, -0.03179931640625, -0.00342559814453125, 0.050567626953125, -0.029937744140625, 0.034759521484375, -0.036651611328125, 0.01407623291015625, 0.0711669921875, 0.0205230712890625, -0.027435302734375, 0.028350830078125, -0.013031005859375, 0.0183868408203125, -0.00461578369140625, -0.044952392578125, -0.031402587890625, 0.0172576904296875, -0.0021648406982421875, 0.00479888916015625, 0.023651123046875, 0.0142974853515625, -0.042266845703125, -0.05828857421875, -0.0546875, 0.034942626953125, -0.094970703125, -0.0311126708984375, 0.036376953125, 0.009918212890625, 0.027069091796875, 0.0233612060546875, 0.004199981689453125, -0.00010126829147338867, 0.00555419921875, 0.005741119384765625, 0.05609130859375, 0.040283203125, -0.0123748779296875, 0.007537841796875, 0.019012451171875, -0.023956298828125, 0.0166778564453125, -0.004550933837890625, 0.06158447265625, -0.042083740234375, -0.036224365234375, -0.0311737060546875, -0.0297088623046875, 0.04248046875, -0.01325225830078125, 0.0125579833984375, 0.039306640625, 0.017791748046875, 0.01629638671875, -0.0230712890625, 0.073486328125, -0.0377197265625, 0.0217437744140625, -0.02569580078125, 0.016326904296875, 0.004985809326171875, 0.01154327392578125, -0.0008893013000488281, 0.036956787109375, 0.0260162353515625, 0.04254150390625, 0.0019378662109375, 0.03387451171875, -0.036590576171875, -0.037567138671875, 0.0386962890625, -0.060394287109375, -0.002712249755859375, -0.006244659423828125, -0.006977081298828125, 0.022064208984375, 0.048828125, -0.01287078857421875, -0.0450439453125, -0.026611328125, -0.0638427734375, 0.0101776123046875, -0.034820556640625, 0.044403076171875, 0.016448974609375, -0.0214385986328125], index=0, object='embedding')]\n"
          ]
        }
      ]
    },
    {
      "cell_type": "code",
      "source": [
        "import numpy as np\n",
        "\n",
        "# Set the batch size\n",
        "BATCH_SIZE = 150\n",
        "total_passages = len(corpus_clean1)\n",
        "all_corpus_embeddings = []  # To store embeddings for all passages\n",
        "all_similarity_scores = []  # To store similarity scores across all queries\n",
        "TOP_K = 10  # Set the number of top passages you want to retrieve\n",
        "\n",
        "# Function to compute cosine similarity\n",
        "def cosine_similarity(a, b):\n",
        "    a = np.array(a)\n",
        "    b = np.array(b)\n",
        "    return np.dot(a, b) / (np.linalg.norm(a) * np.linalg.norm(b))\n",
        "\n",
        "# Filter out empty passages\n",
        "filtered_corpus = [doc for doc in corpus_clean1 if doc.strip()]\n",
        "\n",
        "# Process each batch with non-empty passages\n",
        "for start in range(0, len(filtered_corpus), BATCH_SIZE):\n",
        "    end = min(start + BATCH_SIZE, len(filtered_corpus))\n",
        "\n",
        "    # Embed the current batch of corpus passages\n",
        "    corpus_embeddings_batch = embed_texts(filtered_corpus[start:end], input_type=\"passage\")\n",
        "\n",
        "    all_corpus_embeddings.extend(corpus_embeddings_batch)  # Store the embeddings\n",
        "\n",
        "    # Calculate similarity scores for each query in the global list\n",
        "    for i, query_embedding in enumerate(query_embeddings):\n",
        "        query_vector = np.array(query_embedding.embedding)\n",
        "\n",
        "        # Calculate similarity scores for the current batch\n",
        "        similarity_scores_batch = [cosine_similarity(query_vector, np.array(doc_embedding.embedding)) for doc_embedding in corpus_embeddings_batch]\n",
        "\n",
        "        # Adjust index for global position and store results in the global similarity list\n",
        "        for j, score in enumerate(similarity_scores_batch):\n",
        "            all_similarity_scores.append((start + j, i, score))  # (Global Index, Query Index, Similarity Score)\n",
        "\n",
        "# Sort the entire similarity list by score in descending order\n",
        "all_similarity_scores = sorted(all_similarity_scores, key=lambda x: x[2], reverse=True)"
      ],
      "metadata": {
        "id": "5umzpHmSrNUX"
      },
      "execution_count": 37,
      "outputs": []
    },
    {
      "cell_type": "code",
      "source": [
        "# Example: Retrieve the top 10 overall passages with highest similarity scores\n",
        "print(\"Top 10 passages with highest similarity scores:\")\n",
        "for global_index, query_index, score in all_similarity_scores[:10]:\n",
        "    print(f\"Passage Index: {global_index}, Score: {score:.4f}, Passage: {filtered_corpus[global_index][:200]}...\")\n"
      ],
      "metadata": {
        "colab": {
          "base_uri": "https://localhost:8080/"
        },
        "id": "mhYLRatKrNYb",
        "outputId": "ce244f70-bdef-4bf0-b6a1-e5d6aeaf3855"
      },
      "execution_count": 38,
      "outputs": [
        {
          "output_type": "stream",
          "name": "stdout",
          "text": [
            "Top 10 passages with highest similarity scores:\n",
            "Passage Index: 2365, Score: 0.5042, Passage: Inflation is an increase in the money supply.  Increases in consumer prices follow from inflation.  It's not the same as inflation. Some inflation is necessary for a growing economy.  If your gross na...\n",
            "Passage Index: 6262, Score: 0.5021, Passage: In simple terms, inflation is a result of too much money chasing too few goods, i.e. there is an imbalance between demand and supply. The demand exceeds the supply. With all other things being constan...\n",
            "Passage Index: 6665, Score: 0.4962, Passage: Inflation refers to the money supply. Think of all money being air in a balloon. Inflation is what happens when you blow more air in the balloon. Deflation is what happens when you let air escape. Inf...\n",
            "Passage Index: 6364, Score: 0.4889, Passage: Inflation is a reflection on the expansion of the money supply, aka debt,  being created by a central bank. Fiat currencies usually inflate, because there is no limit to the amount of debt that can be...\n",
            "Passage Index: 6790, Score: 0.4824, Passage: The general discussion of inflation centers on money as a medium of exchange and a store of value. It is impossible to discuss inflation without considering time, since it is a comparison between the ...\n",
            "Passage Index: 6788, Score: 0.4770, Passage: \"Inflation as defined in the general, has many impacts at a personal level. For example, you say that the reduction in the price of oil has no impact on you.  That's absolutely not true, unless you're...\n",
            "Passage Index: 6663, Score: 0.4669, Passage: Inflation is basically this:  Over time, prices go up! I will now address the 3 points you have listed. Suppose over a period of 10 years, prices have doubled.  Now suppose 10 years ago I earned $100 ...\n",
            "Passage Index: 6897, Score: 0.4636, Passage: Inflation can be a misleading indicator. Partly because it is not measured as a function of the change in prices of everything in the economy, just the basket of goods deemed essential. The other prob...\n",
            "Passage Index: 2368, Score: 0.4619, Passage: Inflation is theft!  It is caused when banks lend money that someone deposited, but still has claim to - called fractional reserve banking.   On top of that, the Federal Reserve Bank (in the US) or th...\n",
            "Passage Index: 2363, Score: 0.4582, Passage: \"The classic definition of inflation is \"\"too much money chasing too few goods.\"\"  Within a tight range, say 1-3%, inflation is somewhat benign.  There's a nice inflation widget at The Inflation Calcu...\n"
          ]
        }
      ]
    },
    {
      "cell_type": "markdown",
      "source": [
        "# ***Ranking***"
      ],
      "metadata": {
        "id": "5DzpanT5wvuK"
      }
    },
    {
      "cell_type": "code",
      "source": [
        "large_model_passages = []\n",
        "evaluate_large_model_passages = []\n",
        "\n",
        "# Store the top 10 passages for reranking\n",
        "for global_index, query_index, score in all_similarity_scores[:10]:\n",
        "    large_model_passages.append((filtered_corpus[global_index], score))  # Store passage and score\n",
        "    evaluate_large_model_passages.append((global_index,filtered_corpus[global_index], score))  # Store passage and score"
      ],
      "metadata": {
        "id": "securlG7rNb1"
      },
      "execution_count": 39,
      "outputs": []
    },
    {
      "cell_type": "code",
      "source": [
        "evaluate_large_model_passages[9]"
      ],
      "metadata": {
        "colab": {
          "base_uri": "https://localhost:8080/"
        },
        "id": "YrqQEB8WrNfD",
        "outputId": "dd4e33ea-a694-4dd6-e58f-00c7dfb1b23c"
      },
      "execution_count": 40,
      "outputs": [
        {
          "output_type": "execute_result",
          "data": {
            "text/plain": [
              "(2363,\n",
              " '\"The classic definition of inflation is \"\"too much money chasing too few goods.\"\"  Within a tight range, say 1-3%, inflation is somewhat benign.  There\\'s a nice inflation widget at The Inflation Calculator which helps me see that an item costing $1000 in 1975 would now (2010) be about $4000, and $1000 from 1984 till now, just over $2000. I chose those two years to make a point. First, I am 48, I graduated college in 1984, so in my working life I\\'ve seen the value of the dollar drop by half. On the other han',\n",
              " 0.4582005071662369)"
            ]
          },
          "metadata": {},
          "execution_count": 40
        }
      ]
    },
    {
      "cell_type": "code",
      "source": [
        "# Load ranking model\n",
        "ranking_model = CrossEncoder('cross-encoder/ms-marco-MiniLM-L-12-v2')\n",
        "\n",
        "# Function to rerank passages\n",
        "def rerank_passages(ranking_model, query, retrieved_passages):\n",
        "    rerank_scores = []\n",
        "    for passage_data in retrieved_passages:\n",
        "\n",
        "        passage = passage_data[0]  # Access the passage text\n",
        "        score = passage_data[1]            # Access the relevance score (optional if needed)\n",
        "\n",
        "        pair = [[query, passage]]\n",
        "        rerank_scores.append(ranking_model.predict(pair)[0])\n",
        "\n",
        "    # Sort passages based on rerank scores\n",
        "    reranked_passages = sorted(zip(retrieved_passages, rerank_scores), key=lambda x: x[1], reverse=True)\n",
        "    return reranked_passages\n"
      ],
      "metadata": {
        "id": "WchEbRxJram1"
      },
      "execution_count": 41,
      "outputs": []
    },
    {
      "cell_type": "code",
      "source": [
        "# Large model passage reranking\n",
        "reranked_large_model_passages = rerank_passages(ranking_model, query, large_model_passages)"
      ],
      "metadata": {
        "id": "03MngYKpraqL"
      },
      "execution_count": 42,
      "outputs": []
    },
    {
      "cell_type": "code",
      "source": [
        "reranked_large_model_passages[0]"
      ],
      "metadata": {
        "colab": {
          "base_uri": "https://localhost:8080/"
        },
        "id": "ldbwsbcoratd",
        "outputId": "6e70882e-2bd7-412e-9662-d4540f5209ba"
      },
      "execution_count": 43,
      "outputs": [
        {
          "output_type": "execute_result",
          "data": {
            "text/plain": [
              "(('In simple terms, inflation is a result of too much money chasing too few goods, i.e. there is an imbalance between demand and supply. The demand exceeds the supply. With all other things being constant it leads to increase in price, i.e. inflation.',\n",
              "  0.5020557905557579),\n",
              " 8.179789)"
            ]
          },
          "metadata": {},
          "execution_count": 43
        }
      ]
    },
    {
      "cell_type": "markdown",
      "source": [
        "# ***Evaluation & Reranking***"
      ],
      "metadata": {
        "id": "uIjGitjxw5Um"
      }
    },
    {
      "cell_type": "code",
      "source": [
        "print(f\"Query:{query}\")\n",
        "print('++++++++++++++++++++++')\n",
        "print(small_model_passages[0][1],small_model_passages[0][0])\n",
        "print('----------------------')\n",
        "print(reranked_small_model_passages[0][1],reranked_small_model_passages[0][0][0])\n",
        "print('----------------------')\n",
        "print(large_model_passages[0][1],large_model_passages[0][0])\n",
        "print('----------------------')\n",
        "print(reranked_large_model_passages[0][1],reranked_large_model_passages[0][0][0])"
      ],
      "metadata": {
        "colab": {
          "base_uri": "https://localhost:8080/"
        },
        "id": "K1uYsgScrawE",
        "outputId": "2650e3e6-1cc9-4880-dcc9-565bf993d24e"
      },
      "execution_count": 44,
      "outputs": [
        {
          "output_type": "stream",
          "name": "stdout",
          "text": [
            "Query:What is inflation?\n",
            "++++++++++++++++++++++\n",
            "0.765166163444519 Inflation refers to the money supply. Think of all money being air in a balloon. Inflation is what happens when you blow more air in the balloon. Deflation is what happens when you let air escape. Inflation may cause prices to go up. However there are many scenarios possible in which this does not happen. For example, at the same time of inflation, there might be unemployment, making consumers unable to pay higher prices. Or some important resource (oil) may go down in price (due to political reasons, war has ended etc), compensating for the money having less value.  Similarly, peoples wages will tend to rise over time. They have to, otherwise everyone would be earning less, due to inflation. However again there are many scenarios in which wages do not keep up with inflation, or rise much faster. In fact over the past 40 years or so, US wages have not been able to keep up with inflation, making the average worker 'poorer' than 40 years ago. At its core, inflation refers to the value of the money itself. As all values of other products, services, assets etc are expressed in terms of money which itself also changes value, this can quickly become very complex. Most countries calculate inflation by averaging the price change of a basket of goods that are supposed to represent the average Joe's spending pattern. However these methods are often criticized as they would be 'hiding' inflation. The hidden inflation may come back later to bite us.\n",
            "----------------------\n",
            "8.179789 In simple terms, inflation is a result of too much money chasing too few goods, i.e. there is an imbalance between demand and supply. The demand exceeds the supply. With all other things being constant it leads to increase in price, i.e. inflation.\n",
            "----------------------\n",
            "0.5042454611438153 Inflation is an increase in the money supply.  Increases in consumer prices follow from inflation.  It's not the same as inflation. Some inflation is necessary for a growing economy.  If your gross national product is only $1,000, then you can get away with having less money than if your gross national product is $1 trillion. Inflation beyond this, though, is used to allow governments to live beyond their means.  If there is more money chasing the same amount of goods, prices will rise.  There is truth in w\n",
            "----------------------\n",
            "8.179789 In simple terms, inflation is a result of too much money chasing too few goods, i.e. there is an imbalance between demand and supply. The demand exceeds the supply. With all other things being constant it leads to increase in price, i.e. inflation.\n"
          ]
        }
      ]
    },
    {
      "cell_type": "code",
      "source": [
        "import pandas as pd\n",
        "\n",
        "# Define the query\n",
        "query = \"What is inflation?\"\n",
        "\n",
        "# Define column names\n",
        "columns = ['Model', 'Similarity Score/Ranking score', f'Query:{query}']\n",
        "\n",
        "# Create an empty DataFrame with the defined columns\n",
        "score_table = pd.DataFrame(columns=columns)\n",
        "\n",
        "# Display the empty DataFrame\n",
        "score_table\n"
      ],
      "metadata": {
        "colab": {
          "base_uri": "https://localhost:8080/",
          "height": 89
        },
        "id": "4bFyMEgwrqKR",
        "outputId": "1b77f471-6b4a-4a1e-ab87-028ae4823f9a"
      },
      "execution_count": 45,
      "outputs": [
        {
          "output_type": "execute_result",
          "data": {
            "text/plain": [
              "Empty DataFrame\n",
              "Columns: [Model, Similarity Score/Ranking score, Query:What is inflation?]\n",
              "Index: []"
            ],
            "text/html": [
              "\n",
              "  <div id=\"df-76518ada-cef6-41c2-894c-2d5c0a42f65c\" class=\"colab-df-container\">\n",
              "    <div>\n",
              "<style scoped>\n",
              "    .dataframe tbody tr th:only-of-type {\n",
              "        vertical-align: middle;\n",
              "    }\n",
              "\n",
              "    .dataframe tbody tr th {\n",
              "        vertical-align: top;\n",
              "    }\n",
              "\n",
              "    .dataframe thead th {\n",
              "        text-align: right;\n",
              "    }\n",
              "</style>\n",
              "<table border=\"1\" class=\"dataframe\">\n",
              "  <thead>\n",
              "    <tr style=\"text-align: right;\">\n",
              "      <th></th>\n",
              "      <th>Model</th>\n",
              "      <th>Similarity Score/Ranking score</th>\n",
              "      <th>Query:What is inflation?</th>\n",
              "    </tr>\n",
              "  </thead>\n",
              "  <tbody>\n",
              "  </tbody>\n",
              "</table>\n",
              "</div>\n",
              "    <div class=\"colab-df-buttons\">\n",
              "\n",
              "  <div class=\"colab-df-container\">\n",
              "    <button class=\"colab-df-convert\" onclick=\"convertToInteractive('df-76518ada-cef6-41c2-894c-2d5c0a42f65c')\"\n",
              "            title=\"Convert this dataframe to an interactive table.\"\n",
              "            style=\"display:none;\">\n",
              "\n",
              "  <svg xmlns=\"http://www.w3.org/2000/svg\" height=\"24px\" viewBox=\"0 -960 960 960\">\n",
              "    <path d=\"M120-120v-720h720v720H120Zm60-500h600v-160H180v160Zm220 220h160v-160H400v160Zm0 220h160v-160H400v160ZM180-400h160v-160H180v160Zm440 0h160v-160H620v160ZM180-180h160v-160H180v160Zm440 0h160v-160H620v160Z\"/>\n",
              "  </svg>\n",
              "    </button>\n",
              "\n",
              "  <style>\n",
              "    .colab-df-container {\n",
              "      display:flex;\n",
              "      gap: 12px;\n",
              "    }\n",
              "\n",
              "    .colab-df-convert {\n",
              "      background-color: #E8F0FE;\n",
              "      border: none;\n",
              "      border-radius: 50%;\n",
              "      cursor: pointer;\n",
              "      display: none;\n",
              "      fill: #1967D2;\n",
              "      height: 32px;\n",
              "      padding: 0 0 0 0;\n",
              "      width: 32px;\n",
              "    }\n",
              "\n",
              "    .colab-df-convert:hover {\n",
              "      background-color: #E2EBFA;\n",
              "      box-shadow: 0px 1px 2px rgba(60, 64, 67, 0.3), 0px 1px 3px 1px rgba(60, 64, 67, 0.15);\n",
              "      fill: #174EA6;\n",
              "    }\n",
              "\n",
              "    .colab-df-buttons div {\n",
              "      margin-bottom: 4px;\n",
              "    }\n",
              "\n",
              "    [theme=dark] .colab-df-convert {\n",
              "      background-color: #3B4455;\n",
              "      fill: #D2E3FC;\n",
              "    }\n",
              "\n",
              "    [theme=dark] .colab-df-convert:hover {\n",
              "      background-color: #434B5C;\n",
              "      box-shadow: 0px 1px 3px 1px rgba(0, 0, 0, 0.15);\n",
              "      filter: drop-shadow(0px 1px 2px rgba(0, 0, 0, 0.3));\n",
              "      fill: #FFFFFF;\n",
              "    }\n",
              "  </style>\n",
              "\n",
              "    <script>\n",
              "      const buttonEl =\n",
              "        document.querySelector('#df-76518ada-cef6-41c2-894c-2d5c0a42f65c button.colab-df-convert');\n",
              "      buttonEl.style.display =\n",
              "        google.colab.kernel.accessAllowed ? 'block' : 'none';\n",
              "\n",
              "      async function convertToInteractive(key) {\n",
              "        const element = document.querySelector('#df-76518ada-cef6-41c2-894c-2d5c0a42f65c');\n",
              "        const dataTable =\n",
              "          await google.colab.kernel.invokeFunction('convertToInteractive',\n",
              "                                                    [key], {});\n",
              "        if (!dataTable) return;\n",
              "\n",
              "        const docLinkHtml = 'Like what you see? Visit the ' +\n",
              "          '<a target=\"_blank\" href=https://colab.research.google.com/notebooks/data_table.ipynb>data table notebook</a>'\n",
              "          + ' to learn more about interactive tables.';\n",
              "        element.innerHTML = '';\n",
              "        dataTable['output_type'] = 'display_data';\n",
              "        await google.colab.output.renderOutput(dataTable, element);\n",
              "        const docLink = document.createElement('div');\n",
              "        docLink.innerHTML = docLinkHtml;\n",
              "        element.appendChild(docLink);\n",
              "      }\n",
              "    </script>\n",
              "  </div>\n",
              "\n",
              "\n",
              "  <div id=\"id_2cd6193f-3ddb-42cf-b990-425ac722e895\">\n",
              "    <style>\n",
              "      .colab-df-generate {\n",
              "        background-color: #E8F0FE;\n",
              "        border: none;\n",
              "        border-radius: 50%;\n",
              "        cursor: pointer;\n",
              "        display: none;\n",
              "        fill: #1967D2;\n",
              "        height: 32px;\n",
              "        padding: 0 0 0 0;\n",
              "        width: 32px;\n",
              "      }\n",
              "\n",
              "      .colab-df-generate:hover {\n",
              "        background-color: #E2EBFA;\n",
              "        box-shadow: 0px 1px 2px rgba(60, 64, 67, 0.3), 0px 1px 3px 1px rgba(60, 64, 67, 0.15);\n",
              "        fill: #174EA6;\n",
              "      }\n",
              "\n",
              "      [theme=dark] .colab-df-generate {\n",
              "        background-color: #3B4455;\n",
              "        fill: #D2E3FC;\n",
              "      }\n",
              "\n",
              "      [theme=dark] .colab-df-generate:hover {\n",
              "        background-color: #434B5C;\n",
              "        box-shadow: 0px 1px 3px 1px rgba(0, 0, 0, 0.15);\n",
              "        filter: drop-shadow(0px 1px 2px rgba(0, 0, 0, 0.3));\n",
              "        fill: #FFFFFF;\n",
              "      }\n",
              "    </style>\n",
              "    <button class=\"colab-df-generate\" onclick=\"generateWithVariable('score_table')\"\n",
              "            title=\"Generate code using this dataframe.\"\n",
              "            style=\"display:none;\">\n",
              "\n",
              "  <svg xmlns=\"http://www.w3.org/2000/svg\" height=\"24px\"viewBox=\"0 0 24 24\"\n",
              "       width=\"24px\">\n",
              "    <path d=\"M7,19H8.4L18.45,9,17,7.55,7,17.6ZM5,21V16.75L18.45,3.32a2,2,0,0,1,2.83,0l1.4,1.43a1.91,1.91,0,0,1,.58,1.4,1.91,1.91,0,0,1-.58,1.4L9.25,21ZM18.45,9,17,7.55Zm-12,3A5.31,5.31,0,0,0,4.9,8.1,5.31,5.31,0,0,0,1,6.5,5.31,5.31,0,0,0,4.9,4.9,5.31,5.31,0,0,0,6.5,1,5.31,5.31,0,0,0,8.1,4.9,5.31,5.31,0,0,0,12,6.5,5.46,5.46,0,0,0,6.5,12Z\"/>\n",
              "  </svg>\n",
              "    </button>\n",
              "    <script>\n",
              "      (() => {\n",
              "      const buttonEl =\n",
              "        document.querySelector('#id_2cd6193f-3ddb-42cf-b990-425ac722e895 button.colab-df-generate');\n",
              "      buttonEl.style.display =\n",
              "        google.colab.kernel.accessAllowed ? 'block' : 'none';\n",
              "\n",
              "      buttonEl.onclick = () => {\n",
              "        google.colab.notebook.generateWithVariable('score_table');\n",
              "      }\n",
              "      })();\n",
              "    </script>\n",
              "  </div>\n",
              "\n",
              "    </div>\n",
              "  </div>\n"
            ],
            "application/vnd.google.colaboratory.intrinsic+json": {
              "type": "dataframe",
              "variable_name": "score_table",
              "repr_error": "Out of range float values are not JSON compliant: nan"
            }
          },
          "metadata": {},
          "execution_count": 45
        }
      ]
    },
    {
      "cell_type": "code",
      "source": [
        "new_rows = [\n",
        "    { 'Similarity Score/Ranking score': small_model_passages[0][1], 'Query:What is inflation?': small_model_passages[0][0], 'Model': 'Small Model'},\n",
        "    { 'Similarity Score/Ranking score': reranked_small_model_passages[0][1], 'Query:What is inflation?': reranked_small_model_passages[0][0][0], 'Model': 'Reranked Small Model'},\n",
        "    { 'Similarity Score/Ranking score': large_model_passages[0][1], 'Query:What is inflation?': large_model_passages[0][0], 'Model': 'Large Model'},\n",
        "    { 'Similarity Score/Ranking score': reranked_large_model_passages[0][1], 'Query:What is inflation?': reranked_large_model_passages[0][0][0], 'Model': 'Reranked Large Model'}\n",
        "]\n",
        "\n",
        "# Convert the list of dictionaries into a DataFrame\n",
        "new_rows_df = pd.DataFrame(new_rows)\n",
        "\n",
        "# Use pd.concat() to add the new rows to the existing DataFrame\n",
        "score_table = pd.concat([score_table, new_rows_df], ignore_index=True)\n",
        "\n",
        "score_table\n"
      ],
      "metadata": {
        "colab": {
          "base_uri": "https://localhost:8080/",
          "height": 229
        },
        "id": "2pp662RJrqNd",
        "outputId": "e393ef71-1020-4d72-e4f5-adcee745ab08"
      },
      "execution_count": 46,
      "outputs": [
        {
          "output_type": "stream",
          "name": "stderr",
          "text": [
            "<ipython-input-46-9ebb8d42b90a>:12: FutureWarning: The behavior of DataFrame concatenation with empty or all-NA entries is deprecated. In a future version, this will no longer exclude empty or all-NA columns when determining the result dtypes. To retain the old behavior, exclude the relevant entries before the concat operation.\n",
            "  score_table = pd.concat([score_table, new_rows_df], ignore_index=True)\n"
          ]
        },
        {
          "output_type": "execute_result",
          "data": {
            "text/plain": [
              "                  Model  Similarity Score/Ranking score  \\\n",
              "0           Small Model                        0.765166   \n",
              "1  Reranked Small Model                        8.179789   \n",
              "2           Large Model                        0.504245   \n",
              "3  Reranked Large Model                        8.179789   \n",
              "\n",
              "                            Query:What is inflation?  \n",
              "0  Inflation refers to the money supply. Think of...  \n",
              "1  In simple terms, inflation is a result of too ...  \n",
              "2  Inflation is an increase in the money supply. ...  \n",
              "3  In simple terms, inflation is a result of too ...  "
            ],
            "text/html": [
              "\n",
              "  <div id=\"df-e15880f5-d1d0-4f32-a11b-d6dea8429a65\" class=\"colab-df-container\">\n",
              "    <div>\n",
              "<style scoped>\n",
              "    .dataframe tbody tr th:only-of-type {\n",
              "        vertical-align: middle;\n",
              "    }\n",
              "\n",
              "    .dataframe tbody tr th {\n",
              "        vertical-align: top;\n",
              "    }\n",
              "\n",
              "    .dataframe thead th {\n",
              "        text-align: right;\n",
              "    }\n",
              "</style>\n",
              "<table border=\"1\" class=\"dataframe\">\n",
              "  <thead>\n",
              "    <tr style=\"text-align: right;\">\n",
              "      <th></th>\n",
              "      <th>Model</th>\n",
              "      <th>Similarity Score/Ranking score</th>\n",
              "      <th>Query:What is inflation?</th>\n",
              "    </tr>\n",
              "  </thead>\n",
              "  <tbody>\n",
              "    <tr>\n",
              "      <th>0</th>\n",
              "      <td>Small Model</td>\n",
              "      <td>0.765166</td>\n",
              "      <td>Inflation refers to the money supply. Think of...</td>\n",
              "    </tr>\n",
              "    <tr>\n",
              "      <th>1</th>\n",
              "      <td>Reranked Small Model</td>\n",
              "      <td>8.179789</td>\n",
              "      <td>In simple terms, inflation is a result of too ...</td>\n",
              "    </tr>\n",
              "    <tr>\n",
              "      <th>2</th>\n",
              "      <td>Large Model</td>\n",
              "      <td>0.504245</td>\n",
              "      <td>Inflation is an increase in the money supply. ...</td>\n",
              "    </tr>\n",
              "    <tr>\n",
              "      <th>3</th>\n",
              "      <td>Reranked Large Model</td>\n",
              "      <td>8.179789</td>\n",
              "      <td>In simple terms, inflation is a result of too ...</td>\n",
              "    </tr>\n",
              "  </tbody>\n",
              "</table>\n",
              "</div>\n",
              "    <div class=\"colab-df-buttons\">\n",
              "\n",
              "  <div class=\"colab-df-container\">\n",
              "    <button class=\"colab-df-convert\" onclick=\"convertToInteractive('df-e15880f5-d1d0-4f32-a11b-d6dea8429a65')\"\n",
              "            title=\"Convert this dataframe to an interactive table.\"\n",
              "            style=\"display:none;\">\n",
              "\n",
              "  <svg xmlns=\"http://www.w3.org/2000/svg\" height=\"24px\" viewBox=\"0 -960 960 960\">\n",
              "    <path d=\"M120-120v-720h720v720H120Zm60-500h600v-160H180v160Zm220 220h160v-160H400v160Zm0 220h160v-160H400v160ZM180-400h160v-160H180v160Zm440 0h160v-160H620v160ZM180-180h160v-160H180v160Zm440 0h160v-160H620v160Z\"/>\n",
              "  </svg>\n",
              "    </button>\n",
              "\n",
              "  <style>\n",
              "    .colab-df-container {\n",
              "      display:flex;\n",
              "      gap: 12px;\n",
              "    }\n",
              "\n",
              "    .colab-df-convert {\n",
              "      background-color: #E8F0FE;\n",
              "      border: none;\n",
              "      border-radius: 50%;\n",
              "      cursor: pointer;\n",
              "      display: none;\n",
              "      fill: #1967D2;\n",
              "      height: 32px;\n",
              "      padding: 0 0 0 0;\n",
              "      width: 32px;\n",
              "    }\n",
              "\n",
              "    .colab-df-convert:hover {\n",
              "      background-color: #E2EBFA;\n",
              "      box-shadow: 0px 1px 2px rgba(60, 64, 67, 0.3), 0px 1px 3px 1px rgba(60, 64, 67, 0.15);\n",
              "      fill: #174EA6;\n",
              "    }\n",
              "\n",
              "    .colab-df-buttons div {\n",
              "      margin-bottom: 4px;\n",
              "    }\n",
              "\n",
              "    [theme=dark] .colab-df-convert {\n",
              "      background-color: #3B4455;\n",
              "      fill: #D2E3FC;\n",
              "    }\n",
              "\n",
              "    [theme=dark] .colab-df-convert:hover {\n",
              "      background-color: #434B5C;\n",
              "      box-shadow: 0px 1px 3px 1px rgba(0, 0, 0, 0.15);\n",
              "      filter: drop-shadow(0px 1px 2px rgba(0, 0, 0, 0.3));\n",
              "      fill: #FFFFFF;\n",
              "    }\n",
              "  </style>\n",
              "\n",
              "    <script>\n",
              "      const buttonEl =\n",
              "        document.querySelector('#df-e15880f5-d1d0-4f32-a11b-d6dea8429a65 button.colab-df-convert');\n",
              "      buttonEl.style.display =\n",
              "        google.colab.kernel.accessAllowed ? 'block' : 'none';\n",
              "\n",
              "      async function convertToInteractive(key) {\n",
              "        const element = document.querySelector('#df-e15880f5-d1d0-4f32-a11b-d6dea8429a65');\n",
              "        const dataTable =\n",
              "          await google.colab.kernel.invokeFunction('convertToInteractive',\n",
              "                                                    [key], {});\n",
              "        if (!dataTable) return;\n",
              "\n",
              "        const docLinkHtml = 'Like what you see? Visit the ' +\n",
              "          '<a target=\"_blank\" href=https://colab.research.google.com/notebooks/data_table.ipynb>data table notebook</a>'\n",
              "          + ' to learn more about interactive tables.';\n",
              "        element.innerHTML = '';\n",
              "        dataTable['output_type'] = 'display_data';\n",
              "        await google.colab.output.renderOutput(dataTable, element);\n",
              "        const docLink = document.createElement('div');\n",
              "        docLink.innerHTML = docLinkHtml;\n",
              "        element.appendChild(docLink);\n",
              "      }\n",
              "    </script>\n",
              "  </div>\n",
              "\n",
              "\n",
              "<div id=\"df-f74b7073-e2f4-4ec7-9623-4f6f83c11c26\">\n",
              "  <button class=\"colab-df-quickchart\" onclick=\"quickchart('df-f74b7073-e2f4-4ec7-9623-4f6f83c11c26')\"\n",
              "            title=\"Suggest charts\"\n",
              "            style=\"display:none;\">\n",
              "\n",
              "<svg xmlns=\"http://www.w3.org/2000/svg\" height=\"24px\"viewBox=\"0 0 24 24\"\n",
              "     width=\"24px\">\n",
              "    <g>\n",
              "        <path d=\"M19 3H5c-1.1 0-2 .9-2 2v14c0 1.1.9 2 2 2h14c1.1 0 2-.9 2-2V5c0-1.1-.9-2-2-2zM9 17H7v-7h2v7zm4 0h-2V7h2v10zm4 0h-2v-4h2v4z\"/>\n",
              "    </g>\n",
              "</svg>\n",
              "  </button>\n",
              "\n",
              "<style>\n",
              "  .colab-df-quickchart {\n",
              "      --bg-color: #E8F0FE;\n",
              "      --fill-color: #1967D2;\n",
              "      --hover-bg-color: #E2EBFA;\n",
              "      --hover-fill-color: #174EA6;\n",
              "      --disabled-fill-color: #AAA;\n",
              "      --disabled-bg-color: #DDD;\n",
              "  }\n",
              "\n",
              "  [theme=dark] .colab-df-quickchart {\n",
              "      --bg-color: #3B4455;\n",
              "      --fill-color: #D2E3FC;\n",
              "      --hover-bg-color: #434B5C;\n",
              "      --hover-fill-color: #FFFFFF;\n",
              "      --disabled-bg-color: #3B4455;\n",
              "      --disabled-fill-color: #666;\n",
              "  }\n",
              "\n",
              "  .colab-df-quickchart {\n",
              "    background-color: var(--bg-color);\n",
              "    border: none;\n",
              "    border-radius: 50%;\n",
              "    cursor: pointer;\n",
              "    display: none;\n",
              "    fill: var(--fill-color);\n",
              "    height: 32px;\n",
              "    padding: 0;\n",
              "    width: 32px;\n",
              "  }\n",
              "\n",
              "  .colab-df-quickchart:hover {\n",
              "    background-color: var(--hover-bg-color);\n",
              "    box-shadow: 0 1px 2px rgba(60, 64, 67, 0.3), 0 1px 3px 1px rgba(60, 64, 67, 0.15);\n",
              "    fill: var(--button-hover-fill-color);\n",
              "  }\n",
              "\n",
              "  .colab-df-quickchart-complete:disabled,\n",
              "  .colab-df-quickchart-complete:disabled:hover {\n",
              "    background-color: var(--disabled-bg-color);\n",
              "    fill: var(--disabled-fill-color);\n",
              "    box-shadow: none;\n",
              "  }\n",
              "\n",
              "  .colab-df-spinner {\n",
              "    border: 2px solid var(--fill-color);\n",
              "    border-color: transparent;\n",
              "    border-bottom-color: var(--fill-color);\n",
              "    animation:\n",
              "      spin 1s steps(1) infinite;\n",
              "  }\n",
              "\n",
              "  @keyframes spin {\n",
              "    0% {\n",
              "      border-color: transparent;\n",
              "      border-bottom-color: var(--fill-color);\n",
              "      border-left-color: var(--fill-color);\n",
              "    }\n",
              "    20% {\n",
              "      border-color: transparent;\n",
              "      border-left-color: var(--fill-color);\n",
              "      border-top-color: var(--fill-color);\n",
              "    }\n",
              "    30% {\n",
              "      border-color: transparent;\n",
              "      border-left-color: var(--fill-color);\n",
              "      border-top-color: var(--fill-color);\n",
              "      border-right-color: var(--fill-color);\n",
              "    }\n",
              "    40% {\n",
              "      border-color: transparent;\n",
              "      border-right-color: var(--fill-color);\n",
              "      border-top-color: var(--fill-color);\n",
              "    }\n",
              "    60% {\n",
              "      border-color: transparent;\n",
              "      border-right-color: var(--fill-color);\n",
              "    }\n",
              "    80% {\n",
              "      border-color: transparent;\n",
              "      border-right-color: var(--fill-color);\n",
              "      border-bottom-color: var(--fill-color);\n",
              "    }\n",
              "    90% {\n",
              "      border-color: transparent;\n",
              "      border-bottom-color: var(--fill-color);\n",
              "    }\n",
              "  }\n",
              "</style>\n",
              "\n",
              "  <script>\n",
              "    async function quickchart(key) {\n",
              "      const quickchartButtonEl =\n",
              "        document.querySelector('#' + key + ' button');\n",
              "      quickchartButtonEl.disabled = true;  // To prevent multiple clicks.\n",
              "      quickchartButtonEl.classList.add('colab-df-spinner');\n",
              "      try {\n",
              "        const charts = await google.colab.kernel.invokeFunction(\n",
              "            'suggestCharts', [key], {});\n",
              "      } catch (error) {\n",
              "        console.error('Error during call to suggestCharts:', error);\n",
              "      }\n",
              "      quickchartButtonEl.classList.remove('colab-df-spinner');\n",
              "      quickchartButtonEl.classList.add('colab-df-quickchart-complete');\n",
              "    }\n",
              "    (() => {\n",
              "      let quickchartButtonEl =\n",
              "        document.querySelector('#df-f74b7073-e2f4-4ec7-9623-4f6f83c11c26 button');\n",
              "      quickchartButtonEl.style.display =\n",
              "        google.colab.kernel.accessAllowed ? 'block' : 'none';\n",
              "    })();\n",
              "  </script>\n",
              "</div>\n",
              "\n",
              "  <div id=\"id_fcdf908b-11b1-4aae-b105-1e56f73ed9cd\">\n",
              "    <style>\n",
              "      .colab-df-generate {\n",
              "        background-color: #E8F0FE;\n",
              "        border: none;\n",
              "        border-radius: 50%;\n",
              "        cursor: pointer;\n",
              "        display: none;\n",
              "        fill: #1967D2;\n",
              "        height: 32px;\n",
              "        padding: 0 0 0 0;\n",
              "        width: 32px;\n",
              "      }\n",
              "\n",
              "      .colab-df-generate:hover {\n",
              "        background-color: #E2EBFA;\n",
              "        box-shadow: 0px 1px 2px rgba(60, 64, 67, 0.3), 0px 1px 3px 1px rgba(60, 64, 67, 0.15);\n",
              "        fill: #174EA6;\n",
              "      }\n",
              "\n",
              "      [theme=dark] .colab-df-generate {\n",
              "        background-color: #3B4455;\n",
              "        fill: #D2E3FC;\n",
              "      }\n",
              "\n",
              "      [theme=dark] .colab-df-generate:hover {\n",
              "        background-color: #434B5C;\n",
              "        box-shadow: 0px 1px 3px 1px rgba(0, 0, 0, 0.15);\n",
              "        filter: drop-shadow(0px 1px 2px rgba(0, 0, 0, 0.3));\n",
              "        fill: #FFFFFF;\n",
              "      }\n",
              "    </style>\n",
              "    <button class=\"colab-df-generate\" onclick=\"generateWithVariable('score_table')\"\n",
              "            title=\"Generate code using this dataframe.\"\n",
              "            style=\"display:none;\">\n",
              "\n",
              "  <svg xmlns=\"http://www.w3.org/2000/svg\" height=\"24px\"viewBox=\"0 0 24 24\"\n",
              "       width=\"24px\">\n",
              "    <path d=\"M7,19H8.4L18.45,9,17,7.55,7,17.6ZM5,21V16.75L18.45,3.32a2,2,0,0,1,2.83,0l1.4,1.43a1.91,1.91,0,0,1,.58,1.4,1.91,1.91,0,0,1-.58,1.4L9.25,21ZM18.45,9,17,7.55Zm-12,3A5.31,5.31,0,0,0,4.9,8.1,5.31,5.31,0,0,0,1,6.5,5.31,5.31,0,0,0,4.9,4.9,5.31,5.31,0,0,0,6.5,1,5.31,5.31,0,0,0,8.1,4.9,5.31,5.31,0,0,0,12,6.5,5.46,5.46,0,0,0,6.5,12Z\"/>\n",
              "  </svg>\n",
              "    </button>\n",
              "    <script>\n",
              "      (() => {\n",
              "      const buttonEl =\n",
              "        document.querySelector('#id_fcdf908b-11b1-4aae-b105-1e56f73ed9cd button.colab-df-generate');\n",
              "      buttonEl.style.display =\n",
              "        google.colab.kernel.accessAllowed ? 'block' : 'none';\n",
              "\n",
              "      buttonEl.onclick = () => {\n",
              "        google.colab.notebook.generateWithVariable('score_table');\n",
              "      }\n",
              "      })();\n",
              "    </script>\n",
              "  </div>\n",
              "\n",
              "    </div>\n",
              "  </div>\n"
            ],
            "application/vnd.google.colaboratory.intrinsic+json": {
              "type": "dataframe",
              "variable_name": "score_table",
              "summary": "{\n  \"name\": \"score_table\",\n  \"rows\": 4,\n  \"fields\": [\n    {\n      \"column\": \"Model\",\n      \"properties\": {\n        \"dtype\": \"string\",\n        \"num_unique_values\": 4,\n        \"samples\": [\n          \"Reranked Small Model\",\n          \"Reranked Large Model\",\n          \"Small Model\"\n        ],\n        \"semantic_type\": \"\",\n        \"description\": \"\"\n      }\n    },\n    {\n      \"column\": \"Similarity Score/Ranking score\",\n      \"properties\": {\n        \"dtype\": \"number\",\n        \"std\": 4.357457742040027,\n        \"min\": 0.5042454611438153,\n        \"max\": 8.179788589477539,\n        \"num_unique_values\": 3,\n        \"samples\": [\n          0.765166163444519,\n          8.179788589477539,\n          0.5042454611438153\n        ],\n        \"semantic_type\": \"\",\n        \"description\": \"\"\n      }\n    },\n    {\n      \"column\": \"Query:What is inflation?\",\n      \"properties\": {\n        \"dtype\": \"string\",\n        \"num_unique_values\": 3,\n        \"samples\": [\n          \"Inflation refers to the money supply. Think of all money being air in a balloon. Inflation is what happens when you blow more air in the balloon. Deflation is what happens when you let air escape. Inflation may cause prices to go up. However there are many scenarios possible in which this does not happen. For example, at the same time of inflation, there might be unemployment, making consumers unable to pay higher prices. Or some important resource (oil) may go down in price (due to political reasons, war has ended etc), compensating for the money having less value.  Similarly, peoples wages will tend to rise over time. They have to, otherwise everyone would be earning less, due to inflation. However again there are many scenarios in which wages do not keep up with inflation, or rise much faster. In fact over the past 40 years or so, US wages have not been able to keep up with inflation, making the average worker 'poorer' than 40 years ago. At its core, inflation refers to the value of the money itself. As all values of other products, services, assets etc are expressed in terms of money which itself also changes value, this can quickly become very complex. Most countries calculate inflation by averaging the price change of a basket of goods that are supposed to represent the average Joe's spending pattern. However these methods are often criticized as they would be 'hiding' inflation. The hidden inflation may come back later to bite us.\",\n          \"In simple terms, inflation is a result of too much money chasing too few goods, i.e. there is an imbalance between demand and supply. The demand exceeds the supply. With all other things being constant it leads to increase in price, i.e. inflation.\",\n          \"Inflation is an increase in the money supply.  Increases in consumer prices follow from inflation.  It's not the same as inflation. Some inflation is necessary for a growing economy.  If your gross national product is only $1,000, then you can get away with having less money than if your gross national product is $1 trillion. Inflation beyond this, though, is used to allow governments to live beyond their means.  If there is more money chasing the same amount of goods, prices will rise.  There is truth in w\"\n        ],\n        \"semantic_type\": \"\",\n        \"description\": \"\"\n      }\n    }\n  ]\n}"
            }
          },
          "metadata": {},
          "execution_count": 46
        }
      ]
    },
    {
      "cell_type": "code",
      "source": [
        "# Example query to search\n",
        "search_query = \"What is inflation?\"\n",
        "\n",
        "# Filter the DataFrame to get rows where query_text matches the search query\n",
        "matched_rows = df[df['query_text'].str.contains(search_query, case=False)]\n",
        "\n",
        "# Display the matched rows\n",
        "print(matched_rows)\n"
      ],
      "metadata": {
        "colab": {
          "base_uri": "https://localhost:8080/"
        },
        "id": "pu_cIrtRrqQz",
        "outputId": "2cdb5d0c-e818-436d-8d80-793185e80d9e"
      },
      "execution_count": 47,
      "outputs": [
        {
          "output_type": "stream",
          "name": "stdout",
          "text": [
            "      query_id  doc_id  relevance          query_text  \\\n",
            "6685      4361  519596          1  What is inflation?   \n",
            "6686      4361  184776          1  What is inflation?   \n",
            "6687      4361  513249          1  What is inflation?   \n",
            "6688      4361  204711          1  What is inflation?   \n",
            "6689      4361  264603          1  What is inflation?   \n",
            "\n",
            "                                          document_text  \n",
            "6685  Inflation is basically this:  Over time, price...  \n",
            "6686  When we speak about a product or service, we g...  \n",
            "6687  Inflation refers to the money supply. Think of...  \n",
            "6688  Money itself has no value. A gold bar is worth...  \n",
            "6689  I've seen a lot of long and complicated answer...  \n"
          ]
        }
      ]
    }
  ]
}